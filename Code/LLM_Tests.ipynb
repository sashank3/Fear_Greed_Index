{
 "cells": [
  {
   "cell_type": "code",
   "outputs": [],
   "source": [
    "import torch\n",
    "import random\n",
    "from datasets import load_dataset\n",
    "from sklearn.metrics import accuracy_score\n",
    "from transformers import AutoModelForCausalLM, AutoTokenizer\n"
   ],
   "metadata": {
    "collapsed": false,
    "ExecuteTime": {
     "end_time": "2024-04-13T23:49:44.984991800Z",
     "start_time": "2024-04-13T23:49:38.130202700Z"
    }
   },
   "id": "8c5041454a207d0a",
   "execution_count": 1
  },
  {
   "cell_type": "code",
   "outputs": [
    {
     "name": "stdout",
     "output_type": "stream",
     "text": [
      "cuda\n"
     ]
    },
    {
     "data": {
      "text/plain": "Loading checkpoint shards:   0%|          | 0/2 [00:00<?, ?it/s]",
      "application/vnd.jupyter.widget-view+json": {
       "version_major": 2,
       "version_minor": 0,
       "model_id": "ae8c3a71e51347e2bcd17e7a48343970"
      }
     },
     "metadata": {},
     "output_type": "display_data"
    },
    {
     "name": "stderr",
     "output_type": "stream",
     "text": [
      "Special tokens have been added in the vocabulary, make sure the associated word embeddings are fine-tuned or trained.\n"
     ]
    }
   ],
   "source": [
    "if torch.cuda.is_available():\n",
    "    device = \"cuda\"\n",
    "\n",
    "print(device)\n",
    "\n",
    "model = AutoModelForCausalLM.from_pretrained(\"microsoft/phi-2\", torch_dtype=\"auto\", trust_remote_code=True).to(device)\n",
    "tokenizer = AutoTokenizer.from_pretrained(\"microsoft/phi-2\", trust_remote_code=True)\n"
   ],
   "metadata": {
    "collapsed": false,
    "ExecuteTime": {
     "end_time": "2024-04-13T23:50:00.667229400Z",
     "start_time": "2024-04-13T23:49:46.340983100Z"
    }
   },
   "id": "99f91642398b785d",
   "execution_count": 2
  },
  {
   "cell_type": "code",
   "outputs": [],
   "source": [
    "dataset = load_dataset(\"financial_phrasebank\", 'sentences_allagree')\n",
    "dataset = dataset['train']\n"
   ],
   "metadata": {
    "collapsed": false,
    "ExecuteTime": {
     "end_time": "2024-04-13T23:50:02.788209800Z",
     "start_time": "2024-04-13T23:50:00.669228100Z"
    }
   },
   "id": "e1efbdbae7bbbbc9",
   "execution_count": 3
  },
  {
   "cell_type": "code",
   "outputs": [
    {
     "name": "stdout",
     "output_type": "stream",
     "text": [
      "Finnish electronics manufacturing services EMS company Elcoteq SE posted a net loss of 66.4 mln euro $ 91.2 mln for the first half of 2007 , compared to a net profit of 7.1 mln euro $ 9.8 mln for the same period of 2006 .\n",
      "0\n"
     ]
    }
   ],
   "source": [
    "random.seed(10)\n",
    "sampled_indices = random.sample(range(len(dataset)), 1000)\n",
    "sampled_data = [dataset[i] for i in sampled_indices]\n",
    "\n",
    "sampled_sentences = [data['sentence'] for data in sampled_data]\n",
    "sampled_labels = [data['label'] for data in sampled_data]\n",
    "print(sampled_sentences[5])\n",
    "print(sampled_labels[5])\n"
   ],
   "metadata": {
    "collapsed": false,
    "ExecuteTime": {
     "end_time": "2024-04-13T23:50:02.834961400Z",
     "start_time": "2024-04-13T23:50:02.788209800Z"
    }
   },
   "id": "2aa529af93c49059",
   "execution_count": 4
  },
  {
   "cell_type": "code",
   "outputs": [],
   "source": [
    "prompt = \"Instruct: As a Financial News Article Sentiment Classification expert, analyze the sentiment of the following financial news article and classify its sentiment as a single number, 0 being 'Negative', 1 being 'Neutral', and 2 being 'Positive'. Provide only a single number as output, without additional text. Below is an example to illustrate the sentiment classification:\\n Example: 'Finnish electronics manufacturing services EMS company Elcoteq SE posted a net loss of 66.4 mln euro $ 91.2 mln for the first half of 2007 , compared to a net profit of 7.1 mln euro $ 9.8 mln for the same period of 2006 .' - Output:0 \\n Sentiment Classification news article: \"\n"
   ],
   "metadata": {
    "collapsed": false,
    "ExecuteTime": {
     "end_time": "2024-04-14T00:52:31.052996900Z",
     "start_time": "2024-04-14T00:52:31.051483400Z"
    }
   },
   "id": "a0e3365f89c60644",
   "execution_count": 16
  },
  {
   "cell_type": "code",
   "outputs": [],
   "source": [
    "predictions = []\n",
    "\n",
    "for sentence in sampled_sentences:\n",
    "    inputs = tokenizer([prompt + \"'\" + sentence + \"' \\n Output:\"], return_tensors=\"pt\", return_attention_mask=False).to(device)\n",
    "    outputs = model.generate(**inputs, max_new_tokens=20, pad_token_id=model.config.eos_token_id)\n",
    "    text = tokenizer.batch_decode(outputs)\n",
    "    predictions.append(int(text[-1][-15]))\n",
    "\n"
   ],
   "metadata": {
    "collapsed": false,
    "ExecuteTime": {
     "end_time": "2024-04-14T00:57:48.617934900Z",
     "start_time": "2024-04-14T00:52:32.192047100Z"
    }
   },
   "id": "bb6f29620780c1f2",
   "execution_count": 17
  },
  {
   "cell_type": "code",
   "outputs": [
    {
     "name": "stdout",
     "output_type": "stream",
     "text": [
      "0.675\n"
     ]
    }
   ],
   "source": [
    "accuracy = accuracy_score(sampled_labels, predictions)\n",
    "print(accuracy)"
   ],
   "metadata": {
    "collapsed": false,
    "ExecuteTime": {
     "end_time": "2024-04-14T00:57:48.622663600Z",
     "start_time": "2024-04-14T00:57:48.619932900Z"
    }
   },
   "id": "1fcdc7e6b3286776",
   "execution_count": 18
  },
  {
   "cell_type": "code",
   "outputs": [],
   "source": [],
   "metadata": {
    "collapsed": false
   },
   "id": "332208ff1110d142"
  }
 ],
 "metadata": {
  "kernelspec": {
   "display_name": "Python 3",
   "language": "python",
   "name": "python3"
  },
  "language_info": {
   "codemirror_mode": {
    "name": "ipython",
    "version": 2
   },
   "file_extension": ".py",
   "mimetype": "text/x-python",
   "name": "python",
   "nbconvert_exporter": "python",
   "pygments_lexer": "ipython2",
   "version": "2.7.6"
  }
 },
 "nbformat": 4,
 "nbformat_minor": 5
}
