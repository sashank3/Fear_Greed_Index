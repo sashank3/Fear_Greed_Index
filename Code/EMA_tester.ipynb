{
 "cells": [
  {
   "cell_type": "code",
   "execution_count": 1,
   "id": "initial_id",
   "metadata": {
    "collapsed": true,
    "ExecuteTime": {
     "end_time": "2024-04-14T07:09:43.202406200Z",
     "start_time": "2024-04-14T07:09:42.700228800Z"
    }
   },
   "outputs": [],
   "source": [
    "from Feature_Engineering import generate_ema\n",
    "\n",
    "import pandas as pd"
   ]
  },
  {
   "cell_type": "code",
   "outputs": [],
   "source": [
    "sentiment_df = pd.read_csv('Data/articles_features.csv')\n",
    "sentiment_df"
   ],
   "metadata": {
    "collapsed": false
   },
   "id": "ee536eaa49efde22",
   "execution_count": null
  },
  {
   "cell_type": "code",
   "outputs": [],
   "source": [
    "categorical_ema = generate_ema(sentiment_df)\n",
    "categorical_ema"
   ],
   "metadata": {
    "collapsed": false
   },
   "id": "9cc0fb5c287edde",
   "execution_count": null
  },
  {
   "cell_type": "code",
   "outputs": [],
   "source": [],
   "metadata": {
    "collapsed": false
   },
   "id": "d40724c7a8366aca",
   "execution_count": null
  },
  {
   "cell_type": "code",
   "outputs": [],
   "source": [
    "from Data_Cleaning import clean_data, filter_article_dataset, data_saver\n",
    "from Feature_Engineering import generate_subdomain_feature, generate_ema\n",
    "from LLM import predict_sentiment"
   ],
   "metadata": {
    "collapsed": false
   },
   "id": "93e55ea621eb81e4",
   "execution_count": null
  },
  {
   "cell_type": "code",
   "outputs": [],
   "source": [
    "articles_data = pd.read_csv('Data/articles.csv')\n",
    "articles_data"
   ],
   "metadata": {
    "collapsed": false
   },
   "id": "b04da7b7e0b92bc6",
   "execution_count": null
  },
  {
   "cell_type": "code",
   "outputs": [],
   "source": [
    "clean_df = clean_data(articles_data)"
   ],
   "metadata": {
    "collapsed": false
   },
   "id": "2e9218b5d2d34ca",
   "execution_count": null
  },
  {
   "cell_type": "code",
   "outputs": [],
   "source": [
    "filtered_df = filter_article_dataset(clean_df)\n",
    "filtered_df"
   ],
   "metadata": {
    "collapsed": false
   },
   "id": "e80cc93599183151",
   "execution_count": null
  },
  {
   "cell_type": "code",
   "outputs": [],
   "source": [
    "feature_df = generate_subdomain_feature(filtered_df)\n",
    "feature_df"
   ],
   "metadata": {
    "collapsed": false
   },
   "id": "6ea500d433613a1d",
   "execution_count": null
  },
  {
   "cell_type": "code",
   "outputs": [],
   "source": [
    "sentiment_df = predict_sentiment(feature_df)\n",
    "sentiment_df"
   ],
   "metadata": {
    "collapsed": false
   },
   "id": "b2ced28efd206b92",
   "execution_count": null
  },
  {
   "cell_type": "code",
   "outputs": [
    {
     "data": {
      "text/plain": "     Subdomain  EMA_7_days  EMA_21_days  EMA_60_days  Label_7_days  \\\n0     Articles        52.0         35.0         24.0       Neutral   \n1     Business        34.0         27.0         21.0          Fear   \n2      Economy        18.0         17.0          9.0  Extreme Fear   \n3      Finance        47.0         40.0         46.0       Neutral   \n4       Health        55.0         67.0         72.0       Neutral   \n5     Politics        12.0         23.0         43.0  Extreme Fear   \n6  Real-Estate        34.0         33.0         24.0          Fear   \n\n  Label_21_days Label_60_days  \n0          Fear          Fear  \n1          Fear          Fear  \n2  Extreme Fear  Extreme Fear  \n3          Fear       Neutral  \n4         Greed         Greed  \n5          Fear       Neutral  \n6          Fear          Fear  ",
      "text/html": "<div>\n<style scoped>\n    .dataframe tbody tr th:only-of-type {\n        vertical-align: middle;\n    }\n\n    .dataframe tbody tr th {\n        vertical-align: top;\n    }\n\n    .dataframe thead th {\n        text-align: right;\n    }\n</style>\n<table border=\"1\" class=\"dataframe\">\n  <thead>\n    <tr style=\"text-align: right;\">\n      <th></th>\n      <th>Subdomain</th>\n      <th>EMA_7_days</th>\n      <th>EMA_21_days</th>\n      <th>EMA_60_days</th>\n      <th>Label_7_days</th>\n      <th>Label_21_days</th>\n      <th>Label_60_days</th>\n    </tr>\n  </thead>\n  <tbody>\n    <tr>\n      <th>0</th>\n      <td>Articles</td>\n      <td>52.0</td>\n      <td>35.0</td>\n      <td>24.0</td>\n      <td>Neutral</td>\n      <td>Fear</td>\n      <td>Fear</td>\n    </tr>\n    <tr>\n      <th>1</th>\n      <td>Business</td>\n      <td>34.0</td>\n      <td>27.0</td>\n      <td>21.0</td>\n      <td>Fear</td>\n      <td>Fear</td>\n      <td>Fear</td>\n    </tr>\n    <tr>\n      <th>2</th>\n      <td>Economy</td>\n      <td>18.0</td>\n      <td>17.0</td>\n      <td>9.0</td>\n      <td>Extreme Fear</td>\n      <td>Extreme Fear</td>\n      <td>Extreme Fear</td>\n    </tr>\n    <tr>\n      <th>3</th>\n      <td>Finance</td>\n      <td>47.0</td>\n      <td>40.0</td>\n      <td>46.0</td>\n      <td>Neutral</td>\n      <td>Fear</td>\n      <td>Neutral</td>\n    </tr>\n    <tr>\n      <th>4</th>\n      <td>Health</td>\n      <td>55.0</td>\n      <td>67.0</td>\n      <td>72.0</td>\n      <td>Neutral</td>\n      <td>Greed</td>\n      <td>Greed</td>\n    </tr>\n    <tr>\n      <th>5</th>\n      <td>Politics</td>\n      <td>12.0</td>\n      <td>23.0</td>\n      <td>43.0</td>\n      <td>Extreme Fear</td>\n      <td>Fear</td>\n      <td>Neutral</td>\n    </tr>\n    <tr>\n      <th>6</th>\n      <td>Real-Estate</td>\n      <td>34.0</td>\n      <td>33.0</td>\n      <td>24.0</td>\n      <td>Fear</td>\n      <td>Fear</td>\n      <td>Fear</td>\n    </tr>\n  </tbody>\n</table>\n</div>"
     },
     "execution_count": 2,
     "metadata": {},
     "output_type": "execute_result"
    }
   ],
   "source": [
    "categorical_ema = generate_ema()\n",
    "categorical_ema"
   ],
   "metadata": {
    "collapsed": false,
    "ExecuteTime": {
     "end_time": "2024-04-14T07:09:45.397125900Z",
     "start_time": "2024-04-14T07:09:45.372603500Z"
    }
   },
   "id": "659a4dd322513e85",
   "execution_count": 2
  },
  {
   "cell_type": "code",
   "outputs": [],
   "source": [],
   "metadata": {
    "collapsed": false
   },
   "id": "25b03a456683df3b"
  }
 ],
 "metadata": {
  "kernelspec": {
   "display_name": "Python 3",
   "language": "python",
   "name": "python3"
  },
  "language_info": {
   "codemirror_mode": {
    "name": "ipython",
    "version": 2
   },
   "file_extension": ".py",
   "mimetype": "text/x-python",
   "name": "python",
   "nbconvert_exporter": "python",
   "pygments_lexer": "ipython2",
   "version": "2.7.6"
  }
 },
 "nbformat": 4,
 "nbformat_minor": 5
}
