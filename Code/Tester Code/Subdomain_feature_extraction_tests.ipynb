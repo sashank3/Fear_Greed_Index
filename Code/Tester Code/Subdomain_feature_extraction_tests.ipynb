{
 "cells": [
  {
   "cell_type": "code",
   "execution_count": 1,
   "id": "initial_id",
   "metadata": {
    "collapsed": true,
    "ExecuteTime": {
     "end_time": "2024-04-14T21:33:57.154722600Z",
     "start_time": "2024-04-14T21:33:56.689805300Z"
    }
   },
   "outputs": [],
   "source": [
    "import pandas as pd"
   ]
  },
  {
   "cell_type": "code",
   "outputs": [
    {
     "data": {
      "text/plain": "                                                 Title              Time  \\\n0    Activist Politan Plans Second Proxy Battle at ...  2024-03-24 19:42   \n1    NBC’s Chuck Todd Blasts Network as Backlash to...  2024-03-24 14:42   \n2    Big Tech’s Latest Obsession Is Finding Enough ...  2024-03-24 07:42   \n3    A Brazen Yogurt Heist Shows How Cyber Gangs Ar...  2024-03-24 07:42   \n4    Netflix’s Co-CEOs Are Nothing Alike. That’s a ...  2024-03-24 05:42   \n..                                                 ...               ...   \n270                           Let Americans Bank Again  2024-04-11 23:08   \n271  This $77 Million Aspen Ranch is Colorado’s Mos...  2024-04-11 17:08   \n272  Late Designer Max Azria’s Massive Compound Is ...  2024-04-11 13:08   \n273  The Party’s Over for Coachella’s Glitziest Ren...  2024-04-11 00:00   \n274  Movie Theaters Have Weird Real Estate. It’s Sa...  2024-04-08 00:00   \n\n                                                  Link  \n0    https://www.wsj.com/business/deals/activist-po...  \n1    https://www.wsj.com/business/media/msnbc-has-n...  \n2    https://www.wsj.com/business/energy-oil/big-te...  \n3    https://www.wsj.com/business/logistics/a-braze...  \n4    https://www.wsj.com/business/media/the-odd-cou...  \n..                                                 ...  \n270  https://www.wsj.com/articles/let-americans-ban...  \n271  https://www.wsj.com/real-estate/luxury-homes/t...  \n272  https://www.wsj.com/real-estate/luxury-homes/l...  \n273  https://www.wsj.com/real-estate/luxury-homes/t...  \n274  https://www.wsj.com/real-estate/commercial/mov...  \n\n[275 rows x 3 columns]",
      "text/html": "<div>\n<style scoped>\n    .dataframe tbody tr th:only-of-type {\n        vertical-align: middle;\n    }\n\n    .dataframe tbody tr th {\n        vertical-align: top;\n    }\n\n    .dataframe thead th {\n        text-align: right;\n    }\n</style>\n<table border=\"1\" class=\"dataframe\">\n  <thead>\n    <tr style=\"text-align: right;\">\n      <th></th>\n      <th>Title</th>\n      <th>Time</th>\n      <th>Link</th>\n    </tr>\n  </thead>\n  <tbody>\n    <tr>\n      <th>0</th>\n      <td>Activist Politan Plans Second Proxy Battle at ...</td>\n      <td>2024-03-24 19:42</td>\n      <td>https://www.wsj.com/business/deals/activist-po...</td>\n    </tr>\n    <tr>\n      <th>1</th>\n      <td>NBC’s Chuck Todd Blasts Network as Backlash to...</td>\n      <td>2024-03-24 14:42</td>\n      <td>https://www.wsj.com/business/media/msnbc-has-n...</td>\n    </tr>\n    <tr>\n      <th>2</th>\n      <td>Big Tech’s Latest Obsession Is Finding Enough ...</td>\n      <td>2024-03-24 07:42</td>\n      <td>https://www.wsj.com/business/energy-oil/big-te...</td>\n    </tr>\n    <tr>\n      <th>3</th>\n      <td>A Brazen Yogurt Heist Shows How Cyber Gangs Ar...</td>\n      <td>2024-03-24 07:42</td>\n      <td>https://www.wsj.com/business/logistics/a-braze...</td>\n    </tr>\n    <tr>\n      <th>4</th>\n      <td>Netflix’s Co-CEOs Are Nothing Alike. That’s a ...</td>\n      <td>2024-03-24 05:42</td>\n      <td>https://www.wsj.com/business/media/the-odd-cou...</td>\n    </tr>\n    <tr>\n      <th>...</th>\n      <td>...</td>\n      <td>...</td>\n      <td>...</td>\n    </tr>\n    <tr>\n      <th>270</th>\n      <td>Let Americans Bank Again</td>\n      <td>2024-04-11 23:08</td>\n      <td>https://www.wsj.com/articles/let-americans-ban...</td>\n    </tr>\n    <tr>\n      <th>271</th>\n      <td>This $77 Million Aspen Ranch is Colorado’s Mos...</td>\n      <td>2024-04-11 17:08</td>\n      <td>https://www.wsj.com/real-estate/luxury-homes/t...</td>\n    </tr>\n    <tr>\n      <th>272</th>\n      <td>Late Designer Max Azria’s Massive Compound Is ...</td>\n      <td>2024-04-11 13:08</td>\n      <td>https://www.wsj.com/real-estate/luxury-homes/l...</td>\n    </tr>\n    <tr>\n      <th>273</th>\n      <td>The Party’s Over for Coachella’s Glitziest Ren...</td>\n      <td>2024-04-11 00:00</td>\n      <td>https://www.wsj.com/real-estate/luxury-homes/t...</td>\n    </tr>\n    <tr>\n      <th>274</th>\n      <td>Movie Theaters Have Weird Real Estate. It’s Sa...</td>\n      <td>2024-04-08 00:00</td>\n      <td>https://www.wsj.com/real-estate/commercial/mov...</td>\n    </tr>\n  </tbody>\n</table>\n<p>275 rows × 3 columns</p>\n</div>"
     },
     "execution_count": 25,
     "metadata": {},
     "output_type": "execute_result"
    }
   ],
   "source": [
    "df = pd.read_csv('Data/articles.csv')\n",
    "df"
   ],
   "metadata": {
    "collapsed": false,
    "ExecuteTime": {
     "end_time": "2024-04-14T02:06:12.667936100Z",
     "start_time": "2024-04-14T02:06:12.621483500Z"
    }
   },
   "id": "1d06bdfde8aa0e4d",
   "execution_count": 25
  },
  {
   "cell_type": "code",
   "outputs": [],
   "source": [
    "def extract_subdomain(link):\n",
    "    parts = link.split('/')\n",
    "    subdomain = parts[3].capitalize()\n",
    "    if subdomain in ['Business', 'Tech']:\n",
    "        subdomain = 'Business'\n",
    "    elif subdomain == 'Economy':\n",
    "        subdomain = 'Economy'\n",
    "    elif subdomain in ['Finance', 'Personal-finance']:\n",
    "        subdomain = 'Finance'\n",
    "    elif subdomain == 'Health':\n",
    "        subdomain = 'Health'\n",
    "    elif subdomain in ['Politics', 'Us-news', 'World']:\n",
    "        subdomain = 'Politics'\n",
    "    elif subdomain == 'Real-estate':\n",
    "        subdomain = 'Real-Estate'\n",
    "    else:\n",
    "        subdomain = 'Articles'\n",
    "    return subdomain"
   ],
   "metadata": {
    "collapsed": false,
    "ExecuteTime": {
     "end_time": "2024-04-14T02:08:13.600463800Z",
     "start_time": "2024-04-14T02:08:13.589567900Z"
    }
   },
   "id": "7290a277c56ae653",
   "execution_count": 27
  },
  {
   "cell_type": "code",
   "outputs": [
    {
     "data": {
      "text/plain": "                                                 Title              Time  \\\n0    Activist Politan Plans Second Proxy Battle at ...  2024-03-24 19:42   \n1    NBC’s Chuck Todd Blasts Network as Backlash to...  2024-03-24 14:42   \n2    Big Tech’s Latest Obsession Is Finding Enough ...  2024-03-24 07:42   \n3    A Brazen Yogurt Heist Shows How Cyber Gangs Ar...  2024-03-24 07:42   \n4    Netflix’s Co-CEOs Are Nothing Alike. That’s a ...  2024-03-24 05:42   \n..                                                 ...               ...   \n270                           Let Americans Bank Again  2024-04-11 23:08   \n271  This $77 Million Aspen Ranch is Colorado’s Mos...  2024-04-11 17:08   \n272  Late Designer Max Azria’s Massive Compound Is ...  2024-04-11 13:08   \n273  The Party’s Over for Coachella’s Glitziest Ren...  2024-04-11 00:00   \n274  Movie Theaters Have Weird Real Estate. It’s Sa...  2024-04-08 00:00   \n\n                                                  Link    Subdomain  \n0    https://www.wsj.com/business/deals/activist-po...     Business  \n1    https://www.wsj.com/business/media/msnbc-has-n...     Business  \n2    https://www.wsj.com/business/energy-oil/big-te...     Business  \n3    https://www.wsj.com/business/logistics/a-braze...     Business  \n4    https://www.wsj.com/business/media/the-odd-cou...     Business  \n..                                                 ...          ...  \n270  https://www.wsj.com/articles/let-americans-ban...     Articles  \n271  https://www.wsj.com/real-estate/luxury-homes/t...  Real-Estate  \n272  https://www.wsj.com/real-estate/luxury-homes/l...  Real-Estate  \n273  https://www.wsj.com/real-estate/luxury-homes/t...  Real-Estate  \n274  https://www.wsj.com/real-estate/commercial/mov...  Real-Estate  \n\n[275 rows x 4 columns]",
      "text/html": "<div>\n<style scoped>\n    .dataframe tbody tr th:only-of-type {\n        vertical-align: middle;\n    }\n\n    .dataframe tbody tr th {\n        vertical-align: top;\n    }\n\n    .dataframe thead th {\n        text-align: right;\n    }\n</style>\n<table border=\"1\" class=\"dataframe\">\n  <thead>\n    <tr style=\"text-align: right;\">\n      <th></th>\n      <th>Title</th>\n      <th>Time</th>\n      <th>Link</th>\n      <th>Subdomain</th>\n    </tr>\n  </thead>\n  <tbody>\n    <tr>\n      <th>0</th>\n      <td>Activist Politan Plans Second Proxy Battle at ...</td>\n      <td>2024-03-24 19:42</td>\n      <td>https://www.wsj.com/business/deals/activist-po...</td>\n      <td>Business</td>\n    </tr>\n    <tr>\n      <th>1</th>\n      <td>NBC’s Chuck Todd Blasts Network as Backlash to...</td>\n      <td>2024-03-24 14:42</td>\n      <td>https://www.wsj.com/business/media/msnbc-has-n...</td>\n      <td>Business</td>\n    </tr>\n    <tr>\n      <th>2</th>\n      <td>Big Tech’s Latest Obsession Is Finding Enough ...</td>\n      <td>2024-03-24 07:42</td>\n      <td>https://www.wsj.com/business/energy-oil/big-te...</td>\n      <td>Business</td>\n    </tr>\n    <tr>\n      <th>3</th>\n      <td>A Brazen Yogurt Heist Shows How Cyber Gangs Ar...</td>\n      <td>2024-03-24 07:42</td>\n      <td>https://www.wsj.com/business/logistics/a-braze...</td>\n      <td>Business</td>\n    </tr>\n    <tr>\n      <th>4</th>\n      <td>Netflix’s Co-CEOs Are Nothing Alike. That’s a ...</td>\n      <td>2024-03-24 05:42</td>\n      <td>https://www.wsj.com/business/media/the-odd-cou...</td>\n      <td>Business</td>\n    </tr>\n    <tr>\n      <th>...</th>\n      <td>...</td>\n      <td>...</td>\n      <td>...</td>\n      <td>...</td>\n    </tr>\n    <tr>\n      <th>270</th>\n      <td>Let Americans Bank Again</td>\n      <td>2024-04-11 23:08</td>\n      <td>https://www.wsj.com/articles/let-americans-ban...</td>\n      <td>Articles</td>\n    </tr>\n    <tr>\n      <th>271</th>\n      <td>This $77 Million Aspen Ranch is Colorado’s Mos...</td>\n      <td>2024-04-11 17:08</td>\n      <td>https://www.wsj.com/real-estate/luxury-homes/t...</td>\n      <td>Real-Estate</td>\n    </tr>\n    <tr>\n      <th>272</th>\n      <td>Late Designer Max Azria’s Massive Compound Is ...</td>\n      <td>2024-04-11 13:08</td>\n      <td>https://www.wsj.com/real-estate/luxury-homes/l...</td>\n      <td>Real-Estate</td>\n    </tr>\n    <tr>\n      <th>273</th>\n      <td>The Party’s Over for Coachella’s Glitziest Ren...</td>\n      <td>2024-04-11 00:00</td>\n      <td>https://www.wsj.com/real-estate/luxury-homes/t...</td>\n      <td>Real-Estate</td>\n    </tr>\n    <tr>\n      <th>274</th>\n      <td>Movie Theaters Have Weird Real Estate. It’s Sa...</td>\n      <td>2024-04-08 00:00</td>\n      <td>https://www.wsj.com/real-estate/commercial/mov...</td>\n      <td>Real-Estate</td>\n    </tr>\n  </tbody>\n</table>\n<p>275 rows × 4 columns</p>\n</div>"
     },
     "execution_count": 28,
     "metadata": {},
     "output_type": "execute_result"
    }
   ],
   "source": [
    "df['Subdomain'] = df['Link'].apply(extract_subdomain)\n",
    "df"
   ],
   "metadata": {
    "collapsed": false,
    "ExecuteTime": {
     "end_time": "2024-04-14T02:08:21.901544200Z",
     "start_time": "2024-04-14T02:08:21.892221700Z"
    }
   },
   "id": "487d66a8432c082c",
   "execution_count": 28
  },
  {
   "cell_type": "code",
   "outputs": [],
   "source": [],
   "metadata": {
    "collapsed": false,
    "ExecuteTime": {
     "end_time": "2024-04-14T06:27:03.115173600Z",
     "start_time": "2024-04-14T06:27:03.104400900Z"
    }
   },
   "id": "fd97931693ed4855",
   "execution_count": 0
  },
  {
   "cell_type": "code",
   "outputs": [],
   "source": [],
   "metadata": {
    "collapsed": false,
    "ExecuteTime": {
     "end_time": "2024-04-14T06:27:03.116174100Z",
     "start_time": "2024-04-14T06:27:03.108074200Z"
    }
   },
   "id": "291673e4530c673a",
   "execution_count": 0
  },
  {
   "cell_type": "code",
   "outputs": [
    {
     "ename": "ModuleNotFoundError",
     "evalue": "No module named 'Feature_Engineering'",
     "output_type": "error",
     "traceback": [
      "\u001B[1;31m---------------------------------------------------------------------------\u001B[0m",
      "\u001B[1;31mModuleNotFoundError\u001B[0m                       Traceback (most recent call last)",
      "Cell \u001B[1;32mIn[1], line 1\u001B[0m\n\u001B[1;32m----> 1\u001B[0m \u001B[38;5;28;01mfrom\u001B[39;00m \u001B[38;5;21;01mFeature_Engineering\u001B[39;00m \u001B[38;5;28;01mimport\u001B[39;00m generate_ema\n",
      "\u001B[1;31mModuleNotFoundError\u001B[0m: No module named 'Feature_Engineering'"
     ]
    }
   ],
   "source": [
    "from Feature_Engineering import generate_ema"
   ],
   "metadata": {
    "collapsed": false,
    "ExecuteTime": {
     "end_time": "2024-04-14T06:27:27.861631600Z",
     "start_time": "2024-04-14T06:27:27.358197900Z"
    }
   },
   "id": "de57446cc59f0a8d",
   "execution_count": 1
  },
  {
   "cell_type": "code",
   "outputs": [],
   "source": [
    "categorical_ema = generate_ema(sentiment_df)"
   ],
   "metadata": {
    "collapsed": false
   },
   "id": "1f590c7fa4b70da1"
  }
 ],
 "metadata": {
  "kernelspec": {
   "display_name": "Python 3",
   "language": "python",
   "name": "python3"
  },
  "language_info": {
   "codemirror_mode": {
    "name": "ipython",
    "version": 2
   },
   "file_extension": ".py",
   "mimetype": "text/x-python",
   "name": "python",
   "nbconvert_exporter": "python",
   "pygments_lexer": "ipython2",
   "version": "2.7.6"
  }
 },
 "nbformat": 4,
 "nbformat_minor": 5
}
