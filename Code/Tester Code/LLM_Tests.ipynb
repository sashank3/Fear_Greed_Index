{
 "cells": [
  {
   "cell_type": "code",
   "outputs": [],
   "source": [
    "import torch\n",
    "import random\n",
    "from datasets import load_dataset\n",
    "from sklearn.metrics import accuracy_score\n",
    "from transformers import AutoModelForCausalLM, AutoTokenizer\n",
    "from sklearn.metrics import precision_score, recall_score, f1_score, confusion_matrix\n",
    "\n",
    "\n",
    "\n"
   ],
   "metadata": {
    "collapsed": false,
    "ExecuteTime": {
     "end_time": "2024-04-23T01:43:37.124544800Z",
     "start_time": "2024-04-23T01:43:37.121070500Z"
    }
   },
   "id": "8c5041454a207d0a",
   "execution_count": 22
  },
  {
   "cell_type": "code",
   "outputs": [
    {
     "name": "stdout",
     "output_type": "stream",
     "text": [
      "cuda\n"
     ]
    },
    {
     "name": "stderr",
     "output_type": "stream",
     "text": [
      "A new version of the following files was downloaded from https://huggingface.co/microsoft/phi-2:\n",
      "- configuration_phi.py\n",
      ". Make sure to double-check they do not contain any added malicious code. To avoid downloading new versions of the code file, you can pin a revision.\n",
      "A new version of the following files was downloaded from https://huggingface.co/microsoft/phi-2:\n",
      "- modeling_phi.py\n",
      ". Make sure to double-check they do not contain any added malicious code. To avoid downloading new versions of the code file, you can pin a revision.\n"
     ]
    },
    {
     "data": {
      "text/plain": "Downloading shards:   0%|          | 0/2 [00:00<?, ?it/s]",
      "application/vnd.jupyter.widget-view+json": {
       "version_major": 2,
       "version_minor": 0,
       "model_id": "abe8ecae065242b4b874be92ee31c8e3"
      }
     },
     "metadata": {},
     "output_type": "display_data"
    },
    {
     "data": {
      "text/plain": "Loading checkpoint shards:   0%|          | 0/2 [00:00<?, ?it/s]",
      "application/vnd.jupyter.widget-view+json": {
       "version_major": 2,
       "version_minor": 0,
       "model_id": "adfcbb30f893495cbf11b1a920cbda41"
      }
     },
     "metadata": {},
     "output_type": "display_data"
    },
    {
     "name": "stderr",
     "output_type": "stream",
     "text": [
      "Special tokens have been added in the vocabulary, make sure the associated word embeddings are fine-tuned or trained.\n"
     ]
    }
   ],
   "source": [
    "if torch.cuda.is_available():\n",
    "    device = \"cuda\"\n",
    "\n",
    "print(device)\n",
    "\n",
    "model = AutoModelForCausalLM.from_pretrained(\"microsoft/phi-2\", torch_dtype=\"auto\", trust_remote_code=True).to(device)\n",
    "tokenizer = AutoTokenizer.from_pretrained(\"microsoft/phi-2\", trust_remote_code=True)\n"
   ],
   "metadata": {
    "collapsed": false,
    "ExecuteTime": {
     "end_time": "2024-04-23T00:32:10.816275100Z",
     "start_time": "2024-04-23T00:31:54.572501200Z"
    }
   },
   "id": "99f91642398b785d",
   "execution_count": 4
  },
  {
   "cell_type": "code",
   "outputs": [],
   "source": [
    "dataset = load_dataset(\"financial_phrasebank\", 'sentences_allagree')\n",
    "dataset = dataset['train']\n"
   ],
   "metadata": {
    "collapsed": false,
    "ExecuteTime": {
     "end_time": "2024-04-23T00:32:13.168567700Z",
     "start_time": "2024-04-23T00:32:10.812273600Z"
    }
   },
   "id": "e1efbdbae7bbbbc9",
   "execution_count": 5
  },
  {
   "cell_type": "code",
   "outputs": [],
   "source": [
    "random.seed(10)\n",
    "sampled_indices = random.sample(range(len(dataset)), len(dataset))\n",
    "sampled_data = [dataset[i] for i in sampled_indices]\n",
    "\n",
    "sampled_sentences = [data['sentence'] for data in sampled_data]\n",
    "sampled_labels = [data['label'] for data in sampled_data]\n"
   ],
   "metadata": {
    "collapsed": false,
    "ExecuteTime": {
     "end_time": "2024-04-23T00:34:03.840312500Z",
     "start_time": "2024-04-23T00:34:03.755107700Z"
    }
   },
   "id": "2aa529af93c49059",
   "execution_count": 6
  },
  {
   "cell_type": "code",
   "outputs": [],
   "source": [
    "prompt = \"Instruct: As a Financial News Article Sentiment Classification expert, analyze and classify the sentiment of the following news article as a single number, 0 being 'Negative', 1 being 'Neutral', and 2 being 'Positive'. Provide only a single number as output, without additional text. Below is a sentiment classification example:\\n Example: 'Operating margin , however , slipped to 14.4 % from 15.1 % , dragged down by a poor performance in enterprise solutions .' - Output:0 \\n Example: 'The negotiations concern personnel of Cencorp Corporation and Singulase Oy as whole in Finland and in Sweden , the company said .' - Output:1 \\n Example: 'In January-September 2009 , the Group 's net interest income increased to EUR 112.4 mn from EUR 74.3 mn in January-September 2008 .' - Output:2 \\n Sentiment Classification news article: \"\n"
   ],
   "metadata": {
    "collapsed": false,
    "ExecuteTime": {
     "end_time": "2024-04-23T02:09:59.942330500Z",
     "start_time": "2024-04-23T02:09:59.926376100Z"
    }
   },
   "id": "a0e3365f89c60644",
   "execution_count": 48
  },
  {
   "cell_type": "code",
   "outputs": [],
   "source": [
    "predictions = []\n",
    "\n",
    "for sentence in sampled_sentences:\n",
    "    inputs = tokenizer([prompt + \"'\" + sentence + \"' \\n Output:\"], return_tensors=\"pt\", return_attention_mask=False).to(device)\n",
    "    outputs = model.generate(**inputs, max_new_tokens=1, pad_token_id=model.config.eos_token_id)\n",
    "    text = tokenizer.batch_decode(outputs)\n",
    "    predictions.append(int(text[-1][-1]))\n",
    "\n"
   ],
   "metadata": {
    "collapsed": false,
    "ExecuteTime": {
     "end_time": "2024-04-23T02:14:11.727957600Z",
     "start_time": "2024-04-23T02:10:00.257666700Z"
    }
   },
   "id": "bb6f29620780c1f2",
   "execution_count": 49
  },
  {
   "cell_type": "code",
   "outputs": [
    {
     "name": "stdout",
     "output_type": "stream",
     "text": [
      "0.38515901060070673\n"
     ]
    }
   ],
   "source": [
    "accuracy = accuracy_score(sampled_labels, predictions)\n",
    "print(accuracy)"
   ],
   "metadata": {
    "collapsed": false,
    "ExecuteTime": {
     "end_time": "2024-04-23T02:14:11.737336500Z",
     "start_time": "2024-04-23T02:14:11.730961200Z"
    }
   },
   "id": "1fcdc7e6b3286776",
   "execution_count": 50
  },
  {
   "cell_type": "code",
   "outputs": [
    {
     "name": "stdout",
     "output_type": "stream",
     "text": [
      "Precision: [0.34246575 0.94594595 0.38203957]\n",
      "Recall: [0.99009901 0.05032351 0.88070175]\n",
      "F1 Score: [0.50890585 0.09556314 0.5329087 ]\n"
     ]
    }
   ],
   "source": [
    "conf_matrix = confusion_matrix(sampled_labels, predictions)\n",
    "\n",
    "# Compute precision, recall, and F1 score\n",
    "precision = precision_score(sampled_labels, predictions, average = None)\n",
    "recall = recall_score(sampled_labels, predictions, average = None)\n",
    "f1 = f1_score(sampled_labels, predictions, average = None)\n",
    "\n",
    "print(\"Precision:\", precision)\n",
    "print(\"Recall:\", recall)\n",
    "print(\"F1 Score:\", f1)"
   ],
   "metadata": {
    "collapsed": false,
    "ExecuteTime": {
     "end_time": "2024-04-23T02:14:11.758395900Z",
     "start_time": "2024-04-23T02:14:11.740334900Z"
    }
   },
   "id": "332208ff1110d142",
   "execution_count": 51
  },
  {
   "cell_type": "code",
   "outputs": [
    {
     "data": {
      "text/plain": "array([[300,   0,   3],\n       [512,  70, 809],\n       [ 64,   4, 502]], dtype=int64)"
     },
     "execution_count": 52,
     "metadata": {},
     "output_type": "execute_result"
    }
   ],
   "source": [
    "conf_matrix"
   ],
   "metadata": {
    "collapsed": false,
    "ExecuteTime": {
     "end_time": "2024-04-23T02:14:11.806411600Z",
     "start_time": "2024-04-23T02:14:11.762395100Z"
    }
   },
   "id": "da6b1751c633fbf8",
   "execution_count": 52
  },
  {
   "cell_type": "code",
   "outputs": [
    {
     "data": {
      "text/plain": "<Figure size 800x600 with 2 Axes>",
      "image/png": "[encoded data removed]"
     },
     "metadata": {},
     "output_type": "display_data"
    }
   ],
   "source": [
    "import matplotlib.pyplot as plt\n",
    "import seaborn as sns\n",
    "\n",
    "# Plot confusion matrix as heatmap\n",
    "plt.figure(figsize=(8, 6))\n",
    "sns.heatmap(conf_matrix, annot=True, cmap=\"Blues\", fmt=\"d\", xticklabels=['Class 0', 'Class 1', 'Class 2'], yticklabels=['Class 0', 'Class 1', 'Class 2'])\n",
    "plt.xlabel('Predicted Sentiments')\n",
    "plt.ylabel('Actual Sentiments')\n",
    "plt.title('Confusion Matrix for 2-Shot Prompting')\n",
    "plt.show()\n"
   ],
   "metadata": {
    "collapsed": false,
    "ExecuteTime": {
     "end_time": "2024-04-23T02:14:12.005762900Z",
     "start_time": "2024-04-23T02:14:11.771405200Z"
    }
   },
   "id": "652fdb36e1bf7d4d",
   "execution_count": 53
  },
  {
   "cell_type": "code",
   "outputs": [],
   "source": [],
   "metadata": {
    "collapsed": false
   },
   "id": "283cffe3c0c13e78"
  }
 ],
 "metadata": {
  "kernelspec": {
   "display_name": "Python 3",
   "language": "python",
   "name": "python3"
  },
  "language_info": {
   "codemirror_mode": {
    "name": "ipython",
    "version": 2
   },
   "file_extension": ".py",
   "mimetype": "text/x-python",
   "name": "python",
   "nbconvert_exporter": "python",
   "pygments_lexer": "ipython2",
   "version": "2.7.6"
  }
 },
 "nbformat": 4,
 "nbformat_minor": 5
}
