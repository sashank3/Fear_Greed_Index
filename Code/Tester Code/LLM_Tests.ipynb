{
 "cells": [
  {
   "cell_type": "code",
   "outputs": [],
   "source": [
    "import torch\n",
    "import random\n",
    "from datasets import load_dataset\n",
    "from sklearn.metrics import accuracy_score\n",
    "from transformers import AutoModelForCausalLM, AutoTokenizer\n"
   ],
   "metadata": {
    "collapsed": false,
    "ExecuteTime": {
     "end_time": "2024-04-14T04:52:38.283587200Z",
     "start_time": "2024-04-14T04:52:33.994415500Z"
    }
   },
   "id": "8c5041454a207d0a",
   "execution_count": 1
  },
  {
   "cell_type": "code",
   "outputs": [
    {
     "name": "stdout",
     "output_type": "stream",
     "text": [
      "cuda\n"
     ]
    },
    {
     "data": {
      "text/plain": "Loading checkpoint shards:   0%|          | 0/2 [00:00<?, ?it/s]",
      "application/vnd.jupyter.widget-view+json": {
       "version_major": 2,
       "version_minor": 0,
       "model_id": "7d9a73b6e9d54f9f90cfa9534a9920ae"
      }
     },
     "metadata": {},
     "output_type": "display_data"
    },
    {
     "name": "stderr",
     "output_type": "stream",
     "text": [
      "Special tokens have been added in the vocabulary, make sure the associated word embeddings are fine-tuned or trained.\n"
     ]
    }
   ],
   "source": [
    "if torch.cuda.is_available():\n",
    "    device = \"cuda\"\n",
    "\n",
    "print(device)\n",
    "\n",
    "model = AutoModelForCausalLM.from_pretrained(\"microsoft/phi-2\", torch_dtype=\"auto\", trust_remote_code=True).to(device)\n",
    "tokenizer = AutoTokenizer.from_pretrained(\"microsoft/phi-2\", trust_remote_code=True)\n"
   ],
   "metadata": {
    "collapsed": false,
    "ExecuteTime": {
     "end_time": "2024-04-14T04:52:47.817589300Z",
     "start_time": "2024-04-14T04:52:38.284588900Z"
    }
   },
   "id": "99f91642398b785d",
   "execution_count": 2
  },
  {
   "cell_type": "code",
   "outputs": [],
   "source": [
    "dataset = load_dataset(\"financial_phrasebank\", 'sentences_allagree')\n",
    "dataset = dataset['train']\n"
   ],
   "metadata": {
    "collapsed": false,
    "ExecuteTime": {
     "end_time": "2024-04-14T04:52:49.878758200Z",
     "start_time": "2024-04-14T04:52:47.812585Z"
    }
   },
   "id": "e1efbdbae7bbbbc9",
   "execution_count": 3
  },
  {
   "cell_type": "code",
   "outputs": [],
   "source": [
    "random.seed(10)\n",
    "sampled_indices = random.sample(range(len(dataset)), 1000)\n",
    "sampled_data = [dataset[i] for i in sampled_indices]\n",
    "\n",
    "sampled_sentences = [data['sentence'] for data in sampled_data]\n",
    "sampled_labels = [data['label'] for data in sampled_data]\n"
   ],
   "metadata": {
    "collapsed": false,
    "ExecuteTime": {
     "end_time": "2024-04-14T05:48:47.735230800Z",
     "start_time": "2024-04-14T05:48:47.692631800Z"
    }
   },
   "id": "2aa529af93c49059",
   "execution_count": 60
  },
  {
   "cell_type": "code",
   "outputs": [],
   "source": [
    "prompt = \"Instruct: As a Financial News Article Sentiment Classification expert, analyze and classify the sentiment of the following news article as a single number, 0 being 'Negative', 1 being 'Neutral', and 2 being 'Positive'. Provide only a single number as output, without additional text. Below is a sentiment classification example:\\n Example: 'Operating margin , however , slipped to 14.4 % from 15.1 % , dragged down by a poor performance in enterprise solutions .' - Output:0 \\n Example: 'In January-September 2009 , the Group 's net interest income increased to EUR 112.4 mn from EUR 74.3 mn in January-September 2008 .' - Output:2 \\n Sentiment Classification news article: \"\n"
   ],
   "metadata": {
    "collapsed": false,
    "ExecuteTime": {
     "end_time": "2024-04-14T06:13:56.586499100Z",
     "start_time": "2024-04-14T06:13:56.584490700Z"
    }
   },
   "id": "a0e3365f89c60644",
   "execution_count": 73
  },
  {
   "cell_type": "code",
   "outputs": [],
   "source": [
    "predictions = []\n",
    "\n",
    "for sentence in sampled_sentences:\n",
    "    inputs = tokenizer([prompt + \"'\" + sentence + \"' \\n Output:\"], return_tensors=\"pt\", return_attention_mask=False).to(device)\n",
    "    outputs = model.generate(**inputs, max_new_tokens=1, pad_token_id=model.config.eos_token_id)\n",
    "    text = tokenizer.batch_decode(outputs)\n",
    "    predictions.append(int(text[-1][-1]))\n",
    "\n"
   ],
   "metadata": {
    "collapsed": false,
    "ExecuteTime": {
     "end_time": "2024-04-14T06:15:52.122024700Z",
     "start_time": "2024-04-14T06:13:56.932121800Z"
    }
   },
   "id": "bb6f29620780c1f2",
   "execution_count": 74
  },
  {
   "cell_type": "code",
   "outputs": [
    {
     "name": "stdout",
     "output_type": "stream",
     "text": [
      "0.723\n"
     ]
    }
   ],
   "source": [
    "accuracy = accuracy_score(sampled_labels, predictions)\n",
    "print(accuracy)"
   ],
   "metadata": {
    "collapsed": false,
    "ExecuteTime": {
     "end_time": "2024-04-14T06:15:52.127905500Z",
     "start_time": "2024-04-14T06:15:52.124007Z"
    }
   },
   "id": "1fcdc7e6b3286776",
   "execution_count": 75
  },
  {
   "cell_type": "code",
   "outputs": [],
   "source": [],
   "metadata": {
    "collapsed": false
   },
   "id": "332208ff1110d142"
  }
 ],
 "metadata": {
  "kernelspec": {
   "display_name": "Python 3",
   "language": "python",
   "name": "python3"
  },
  "language_info": {
   "codemirror_mode": {
    "name": "ipython",
    "version": 2
   },
   "file_extension": ".py",
   "mimetype": "text/x-python",
   "name": "python",
   "nbconvert_exporter": "python",
   "pygments_lexer": "ipython2",
   "version": "2.7.6"
  }
 },
 "nbformat": 4,
 "nbformat_minor": 5
}
