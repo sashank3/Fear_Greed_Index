{
 "cells": [
  {
   "cell_type": "code",
   "execution_count": 1,
   "id": "initial_id",
   "metadata": {
    "collapsed": true,
    "ExecuteTime": {
     "end_time": "2024-04-15T04:06:04.255133600Z",
     "start_time": "2024-04-15T04:06:03.713657600Z"
    }
   },
   "outputs": [],
   "source": [
    "from Feature_Engineering import generate_ema\n",
    "\n",
    "import pandas as pd"
   ]
  },
  {
   "cell_type": "code",
   "outputs": [],
   "source": [
    "sentiment_df = pd.read_csv('Data/articles_features.csv')\n",
    "sentiment_df"
   ],
   "metadata": {
    "collapsed": false
   },
   "id": "ee536eaa49efde22",
   "execution_count": null
  },
  {
   "cell_type": "code",
   "outputs": [],
   "source": [
    "categorical_ema = generate_ema(sentiment_df)\n",
    "categorical_ema"
   ],
   "metadata": {
    "collapsed": false
   },
   "id": "9cc0fb5c287edde",
   "execution_count": null
  },
  {
   "cell_type": "code",
   "outputs": [],
   "source": [],
   "metadata": {
    "collapsed": false
   },
   "id": "d40724c7a8366aca",
   "execution_count": null
  },
  {
   "cell_type": "code",
   "outputs": [],
   "source": [
    "from Data_Cleaning import clean_data, filter_article_dataset, data_saver\n",
    "from Feature_Engineering import generate_subdomain_feature, generate_ema\n",
    "from LLM import predict_sentiment"
   ],
   "metadata": {
    "collapsed": false,
    "ExecuteTime": {
     "end_time": "2024-04-15T04:06:06.878238200Z",
     "start_time": "2024-04-15T04:06:04.254132300Z"
    }
   },
   "id": "93e55ea621eb81e4",
   "execution_count": 2
  },
  {
   "cell_type": "code",
   "outputs": [
    {
     "data": {
      "text/plain": "                                                 Title              Time  \\\n0    Activist Politan Plans Second Proxy Battle at ...  2024-03-24 19:42   \n1    NBC’s Chuck Todd Blasts Network as Backlash to...  2024-03-24 14:42   \n2    Big Tech’s Latest Obsession Is Finding Enough ...  2024-03-24 07:42   \n3    A Brazen Yogurt Heist Shows How Cyber Gangs Ar...  2024-03-24 07:42   \n4    Netflix’s Co-CEOs Are Nothing Alike. That’s a ...  2024-03-24 05:42   \n..                                                 ...               ...   \n270                           Let Americans Bank Again  2024-04-11 23:08   \n271  This $77 Million Aspen Ranch is Colorado’s Mos...  2024-04-11 17:08   \n272  Late Designer Max Azria’s Massive Compound Is ...  2024-04-11 13:08   \n273  The Party’s Over for Coachella’s Glitziest Ren...  2024-04-11 00:00   \n274  Movie Theaters Have Weird Real Estate. It’s Sa...  2024-04-08 00:00   \n\n                                                  Link  \n0    https://www.wsj.com/business/deals/activist-po...  \n1    https://www.wsj.com/business/media/msnbc-has-n...  \n2    https://www.wsj.com/business/energy-oil/big-te...  \n3    https://www.wsj.com/business/logistics/a-braze...  \n4    https://www.wsj.com/business/media/the-odd-cou...  \n..                                                 ...  \n270  https://www.wsj.com/articles/let-americans-ban...  \n271  https://www.wsj.com/real-estate/luxury-homes/t...  \n272  https://www.wsj.com/real-estate/luxury-homes/l...  \n273  https://www.wsj.com/real-estate/luxury-homes/t...  \n274  https://www.wsj.com/real-estate/commercial/mov...  \n\n[275 rows x 3 columns]",
      "text/html": "<div>\n<style scoped>\n    .dataframe tbody tr th:only-of-type {\n        vertical-align: middle;\n    }\n\n    .dataframe tbody tr th {\n        vertical-align: top;\n    }\n\n    .dataframe thead th {\n        text-align: right;\n    }\n</style>\n<table border=\"1\" class=\"dataframe\">\n  <thead>\n    <tr style=\"text-align: right;\">\n      <th></th>\n      <th>Title</th>\n      <th>Time</th>\n      <th>Link</th>\n    </tr>\n  </thead>\n  <tbody>\n    <tr>\n      <th>0</th>\n      <td>Activist Politan Plans Second Proxy Battle at ...</td>\n      <td>2024-03-24 19:42</td>\n      <td>https://www.wsj.com/business/deals/activist-po...</td>\n    </tr>\n    <tr>\n      <th>1</th>\n      <td>NBC’s Chuck Todd Blasts Network as Backlash to...</td>\n      <td>2024-03-24 14:42</td>\n      <td>https://www.wsj.com/business/media/msnbc-has-n...</td>\n    </tr>\n    <tr>\n      <th>2</th>\n      <td>Big Tech’s Latest Obsession Is Finding Enough ...</td>\n      <td>2024-03-24 07:42</td>\n      <td>https://www.wsj.com/business/energy-oil/big-te...</td>\n    </tr>\n    <tr>\n      <th>3</th>\n      <td>A Brazen Yogurt Heist Shows How Cyber Gangs Ar...</td>\n      <td>2024-03-24 07:42</td>\n      <td>https://www.wsj.com/business/logistics/a-braze...</td>\n    </tr>\n    <tr>\n      <th>4</th>\n      <td>Netflix’s Co-CEOs Are Nothing Alike. That’s a ...</td>\n      <td>2024-03-24 05:42</td>\n      <td>https://www.wsj.com/business/media/the-odd-cou...</td>\n    </tr>\n    <tr>\n      <th>...</th>\n      <td>...</td>\n      <td>...</td>\n      <td>...</td>\n    </tr>\n    <tr>\n      <th>270</th>\n      <td>Let Americans Bank Again</td>\n      <td>2024-04-11 23:08</td>\n      <td>https://www.wsj.com/articles/let-americans-ban...</td>\n    </tr>\n    <tr>\n      <th>271</th>\n      <td>This $77 Million Aspen Ranch is Colorado’s Mos...</td>\n      <td>2024-04-11 17:08</td>\n      <td>https://www.wsj.com/real-estate/luxury-homes/t...</td>\n    </tr>\n    <tr>\n      <th>272</th>\n      <td>Late Designer Max Azria’s Massive Compound Is ...</td>\n      <td>2024-04-11 13:08</td>\n      <td>https://www.wsj.com/real-estate/luxury-homes/l...</td>\n    </tr>\n    <tr>\n      <th>273</th>\n      <td>The Party’s Over for Coachella’s Glitziest Ren...</td>\n      <td>2024-04-11 00:00</td>\n      <td>https://www.wsj.com/real-estate/luxury-homes/t...</td>\n    </tr>\n    <tr>\n      <th>274</th>\n      <td>Movie Theaters Have Weird Real Estate. It’s Sa...</td>\n      <td>2024-04-08 00:00</td>\n      <td>https://www.wsj.com/real-estate/commercial/mov...</td>\n    </tr>\n  </tbody>\n</table>\n<p>275 rows × 3 columns</p>\n</div>"
     },
     "execution_count": 3,
     "metadata": {},
     "output_type": "execute_result"
    }
   ],
   "source": [
    "articles_data = pd.read_csv('Data/articles.csv')\n",
    "articles_data"
   ],
   "metadata": {
    "collapsed": false,
    "ExecuteTime": {
     "end_time": "2024-04-15T04:06:06.898698800Z",
     "start_time": "2024-04-15T04:06:06.880237500Z"
    }
   },
   "id": "b04da7b7e0b92bc6",
   "execution_count": 3
  },
  {
   "cell_type": "code",
   "outputs": [
    {
     "name": "stdout",
     "output_type": "stream",
     "text": [
      "Success! - Duplicate Removal\n"
     ]
    }
   ],
   "source": [
    "clean_df = clean_data(articles_data)"
   ],
   "metadata": {
    "collapsed": false,
    "ExecuteTime": {
     "end_time": "2024-04-15T04:06:06.901033300Z",
     "start_time": "2024-04-15T04:06:06.896688800Z"
    }
   },
   "id": "2e9218b5d2d34ca",
   "execution_count": 4
  },
  {
   "cell_type": "code",
   "outputs": [
    {
     "name": "stdout",
     "output_type": "stream",
     "text": [
      "Success! - Data Filtering\n"
     ]
    },
    {
     "data": {
      "text/plain": "                                                 Title              Time  \\\n0    Activist Politan Plans Second Proxy Battle at ...  2024-03-24 19:42   \n1    NBC’s Chuck Todd Blasts Network as Backlash to...  2024-03-24 14:42   \n2    Big Tech’s Latest Obsession Is Finding Enough ...  2024-03-24 07:42   \n3    A Brazen Yogurt Heist Shows How Cyber Gangs Ar...  2024-03-24 07:42   \n4    Netflix’s Co-CEOs Are Nothing Alike. That’s a ...  2024-03-24 05:42   \n..                                                 ...               ...   \n270                           Let Americans Bank Again  2024-04-11 23:08   \n271  This $77 Million Aspen Ranch is Colorado’s Mos...  2024-04-11 17:08   \n272  Late Designer Max Azria’s Massive Compound Is ...  2024-04-11 13:08   \n273  The Party’s Over for Coachella’s Glitziest Ren...  2024-04-11 00:00   \n274  Movie Theaters Have Weird Real Estate. It’s Sa...  2024-04-08 00:00   \n\n                                                  Link  \n0    https://www.wsj.com/business/deals/activist-po...  \n1    https://www.wsj.com/business/media/msnbc-has-n...  \n2    https://www.wsj.com/business/energy-oil/big-te...  \n3    https://www.wsj.com/business/logistics/a-braze...  \n4    https://www.wsj.com/business/media/the-odd-cou...  \n..                                                 ...  \n270  https://www.wsj.com/articles/let-americans-ban...  \n271  https://www.wsj.com/real-estate/luxury-homes/t...  \n272  https://www.wsj.com/real-estate/luxury-homes/l...  \n273  https://www.wsj.com/real-estate/luxury-homes/t...  \n274  https://www.wsj.com/real-estate/commercial/mov...  \n\n[275 rows x 3 columns]",
      "text/html": "<div>\n<style scoped>\n    .dataframe tbody tr th:only-of-type {\n        vertical-align: middle;\n    }\n\n    .dataframe tbody tr th {\n        vertical-align: top;\n    }\n\n    .dataframe thead th {\n        text-align: right;\n    }\n</style>\n<table border=\"1\" class=\"dataframe\">\n  <thead>\n    <tr style=\"text-align: right;\">\n      <th></th>\n      <th>Title</th>\n      <th>Time</th>\n      <th>Link</th>\n    </tr>\n  </thead>\n  <tbody>\n    <tr>\n      <th>0</th>\n      <td>Activist Politan Plans Second Proxy Battle at ...</td>\n      <td>2024-03-24 19:42</td>\n      <td>https://www.wsj.com/business/deals/activist-po...</td>\n    </tr>\n    <tr>\n      <th>1</th>\n      <td>NBC’s Chuck Todd Blasts Network as Backlash to...</td>\n      <td>2024-03-24 14:42</td>\n      <td>https://www.wsj.com/business/media/msnbc-has-n...</td>\n    </tr>\n    <tr>\n      <th>2</th>\n      <td>Big Tech’s Latest Obsession Is Finding Enough ...</td>\n      <td>2024-03-24 07:42</td>\n      <td>https://www.wsj.com/business/energy-oil/big-te...</td>\n    </tr>\n    <tr>\n      <th>3</th>\n      <td>A Brazen Yogurt Heist Shows How Cyber Gangs Ar...</td>\n      <td>2024-03-24 07:42</td>\n      <td>https://www.wsj.com/business/logistics/a-braze...</td>\n    </tr>\n    <tr>\n      <th>4</th>\n      <td>Netflix’s Co-CEOs Are Nothing Alike. That’s a ...</td>\n      <td>2024-03-24 05:42</td>\n      <td>https://www.wsj.com/business/media/the-odd-cou...</td>\n    </tr>\n    <tr>\n      <th>...</th>\n      <td>...</td>\n      <td>...</td>\n      <td>...</td>\n    </tr>\n    <tr>\n      <th>270</th>\n      <td>Let Americans Bank Again</td>\n      <td>2024-04-11 23:08</td>\n      <td>https://www.wsj.com/articles/let-americans-ban...</td>\n    </tr>\n    <tr>\n      <th>271</th>\n      <td>This $77 Million Aspen Ranch is Colorado’s Mos...</td>\n      <td>2024-04-11 17:08</td>\n      <td>https://www.wsj.com/real-estate/luxury-homes/t...</td>\n    </tr>\n    <tr>\n      <th>272</th>\n      <td>Late Designer Max Azria’s Massive Compound Is ...</td>\n      <td>2024-04-11 13:08</td>\n      <td>https://www.wsj.com/real-estate/luxury-homes/l...</td>\n    </tr>\n    <tr>\n      <th>273</th>\n      <td>The Party’s Over for Coachella’s Glitziest Ren...</td>\n      <td>2024-04-11 00:00</td>\n      <td>https://www.wsj.com/real-estate/luxury-homes/t...</td>\n    </tr>\n    <tr>\n      <th>274</th>\n      <td>Movie Theaters Have Weird Real Estate. It’s Sa...</td>\n      <td>2024-04-08 00:00</td>\n      <td>https://www.wsj.com/real-estate/commercial/mov...</td>\n    </tr>\n  </tbody>\n</table>\n<p>275 rows × 3 columns</p>\n</div>"
     },
     "execution_count": 5,
     "metadata": {},
     "output_type": "execute_result"
    }
   ],
   "source": [
    "filtered_df = filter_article_dataset(clean_df)\n",
    "filtered_df"
   ],
   "metadata": {
    "collapsed": false,
    "ExecuteTime": {
     "end_time": "2024-04-15T04:06:06.913784Z",
     "start_time": "2024-04-15T04:06:06.903031500Z"
    }
   },
   "id": "e80cc93599183151",
   "execution_count": 5
  },
  {
   "cell_type": "code",
   "outputs": [
    {
     "name": "stdout",
     "output_type": "stream",
     "text": [
      "Success! - Feature Engineering\n"
     ]
    },
    {
     "data": {
      "text/plain": "                                                 Title              Time  \\\n0    Activist Politan Plans Second Proxy Battle at ...  2024-03-24 19:42   \n1    NBC’s Chuck Todd Blasts Network as Backlash to...  2024-03-24 14:42   \n2    Big Tech’s Latest Obsession Is Finding Enough ...  2024-03-24 07:42   \n3    A Brazen Yogurt Heist Shows How Cyber Gangs Ar...  2024-03-24 07:42   \n4    Netflix’s Co-CEOs Are Nothing Alike. That’s a ...  2024-03-24 05:42   \n..                                                 ...               ...   \n270                           Let Americans Bank Again  2024-04-11 23:08   \n271  This $77 Million Aspen Ranch is Colorado’s Mos...  2024-04-11 17:08   \n272  Late Designer Max Azria’s Massive Compound Is ...  2024-04-11 13:08   \n273  The Party’s Over for Coachella’s Glitziest Ren...  2024-04-11 00:00   \n274  Movie Theaters Have Weird Real Estate. It’s Sa...  2024-04-08 00:00   \n\n                                                  Link    Subdomain  \n0    https://www.wsj.com/business/deals/activist-po...     Business  \n1    https://www.wsj.com/business/media/msnbc-has-n...     Business  \n2    https://www.wsj.com/business/energy-oil/big-te...     Business  \n3    https://www.wsj.com/business/logistics/a-braze...     Business  \n4    https://www.wsj.com/business/media/the-odd-cou...     Business  \n..                                                 ...          ...  \n270  https://www.wsj.com/articles/let-americans-ban...     Articles  \n271  https://www.wsj.com/real-estate/luxury-homes/t...  Real-Estate  \n272  https://www.wsj.com/real-estate/luxury-homes/l...  Real-Estate  \n273  https://www.wsj.com/real-estate/luxury-homes/t...  Real-Estate  \n274  https://www.wsj.com/real-estate/commercial/mov...  Real-Estate  \n\n[275 rows x 4 columns]",
      "text/html": "<div>\n<style scoped>\n    .dataframe tbody tr th:only-of-type {\n        vertical-align: middle;\n    }\n\n    .dataframe tbody tr th {\n        vertical-align: top;\n    }\n\n    .dataframe thead th {\n        text-align: right;\n    }\n</style>\n<table border=\"1\" class=\"dataframe\">\n  <thead>\n    <tr style=\"text-align: right;\">\n      <th></th>\n      <th>Title</th>\n      <th>Time</th>\n      <th>Link</th>\n      <th>Subdomain</th>\n    </tr>\n  </thead>\n  <tbody>\n    <tr>\n      <th>0</th>\n      <td>Activist Politan Plans Second Proxy Battle at ...</td>\n      <td>2024-03-24 19:42</td>\n      <td>https://www.wsj.com/business/deals/activist-po...</td>\n      <td>Business</td>\n    </tr>\n    <tr>\n      <th>1</th>\n      <td>NBC’s Chuck Todd Blasts Network as Backlash to...</td>\n      <td>2024-03-24 14:42</td>\n      <td>https://www.wsj.com/business/media/msnbc-has-n...</td>\n      <td>Business</td>\n    </tr>\n    <tr>\n      <th>2</th>\n      <td>Big Tech’s Latest Obsession Is Finding Enough ...</td>\n      <td>2024-03-24 07:42</td>\n      <td>https://www.wsj.com/business/energy-oil/big-te...</td>\n      <td>Business</td>\n    </tr>\n    <tr>\n      <th>3</th>\n      <td>A Brazen Yogurt Heist Shows How Cyber Gangs Ar...</td>\n      <td>2024-03-24 07:42</td>\n      <td>https://www.wsj.com/business/logistics/a-braze...</td>\n      <td>Business</td>\n    </tr>\n    <tr>\n      <th>4</th>\n      <td>Netflix’s Co-CEOs Are Nothing Alike. That’s a ...</td>\n      <td>2024-03-24 05:42</td>\n      <td>https://www.wsj.com/business/media/the-odd-cou...</td>\n      <td>Business</td>\n    </tr>\n    <tr>\n      <th>...</th>\n      <td>...</td>\n      <td>...</td>\n      <td>...</td>\n      <td>...</td>\n    </tr>\n    <tr>\n      <th>270</th>\n      <td>Let Americans Bank Again</td>\n      <td>2024-04-11 23:08</td>\n      <td>https://www.wsj.com/articles/let-americans-ban...</td>\n      <td>Articles</td>\n    </tr>\n    <tr>\n      <th>271</th>\n      <td>This $77 Million Aspen Ranch is Colorado’s Mos...</td>\n      <td>2024-04-11 17:08</td>\n      <td>https://www.wsj.com/real-estate/luxury-homes/t...</td>\n      <td>Real-Estate</td>\n    </tr>\n    <tr>\n      <th>272</th>\n      <td>Late Designer Max Azria’s Massive Compound Is ...</td>\n      <td>2024-04-11 13:08</td>\n      <td>https://www.wsj.com/real-estate/luxury-homes/l...</td>\n      <td>Real-Estate</td>\n    </tr>\n    <tr>\n      <th>273</th>\n      <td>The Party’s Over for Coachella’s Glitziest Ren...</td>\n      <td>2024-04-11 00:00</td>\n      <td>https://www.wsj.com/real-estate/luxury-homes/t...</td>\n      <td>Real-Estate</td>\n    </tr>\n    <tr>\n      <th>274</th>\n      <td>Movie Theaters Have Weird Real Estate. It’s Sa...</td>\n      <td>2024-04-08 00:00</td>\n      <td>https://www.wsj.com/real-estate/commercial/mov...</td>\n      <td>Real-Estate</td>\n    </tr>\n  </tbody>\n</table>\n<p>275 rows × 4 columns</p>\n</div>"
     },
     "execution_count": 6,
     "metadata": {},
     "output_type": "execute_result"
    }
   ],
   "source": [
    "feature_df = generate_subdomain_feature(filtered_df)\n",
    "feature_df"
   ],
   "metadata": {
    "collapsed": false,
    "ExecuteTime": {
     "end_time": "2024-04-15T04:06:06.943500700Z",
     "start_time": "2024-04-15T04:06:06.918304700Z"
    }
   },
   "id": "6ea500d433613a1d",
   "execution_count": 6
  },
  {
   "cell_type": "code",
   "outputs": [
    {
     "data": {
      "text/plain": "Loading checkpoint shards:   0%|          | 0/2 [00:00<?, ?it/s]",
      "application/vnd.jupyter.widget-view+json": {
       "version_major": 2,
       "version_minor": 0,
       "model_id": "53cbd10097444e8bb189b97e1351cb28"
      }
     },
     "metadata": {},
     "output_type": "display_data"
    },
    {
     "name": "stderr",
     "output_type": "stream",
     "text": [
      "Special tokens have been added in the vocabulary, make sure the associated word embeddings are fine-tuned or trained.\n"
     ]
    },
    {
     "name": "stdout",
     "output_type": "stream",
     "text": [
      "Success! - LLM Sentiment Analysis\n"
     ]
    },
    {
     "data": {
      "text/plain": "                                                 Title              Time  \\\n0    Activist Politan Plans Second Proxy Battle at ...  2024-03-24 19:42   \n1    NBC’s Chuck Todd Blasts Network as Backlash to...  2024-03-24 14:42   \n2    Big Tech’s Latest Obsession Is Finding Enough ...  2024-03-24 07:42   \n3    A Brazen Yogurt Heist Shows How Cyber Gangs Ar...  2024-03-24 07:42   \n4    Netflix’s Co-CEOs Are Nothing Alike. That’s a ...  2024-03-24 05:42   \n..                                                 ...               ...   \n270                           Let Americans Bank Again  2024-04-11 23:08   \n271  This $77 Million Aspen Ranch is Colorado’s Mos...  2024-04-11 17:08   \n272  Late Designer Max Azria’s Massive Compound Is ...  2024-04-11 13:08   \n273  The Party’s Over for Coachella’s Glitziest Ren...  2024-04-11 00:00   \n274  Movie Theaters Have Weird Real Estate. It’s Sa...  2024-04-08 00:00   \n\n                                                  Link    Subdomain  Sentiment  \n0    https://www.wsj.com/business/deals/activist-po...     Business          0  \n1    https://www.wsj.com/business/media/msnbc-has-n...     Business          0  \n2    https://www.wsj.com/business/energy-oil/big-te...     Business          2  \n3    https://www.wsj.com/business/logistics/a-braze...     Business          0  \n4    https://www.wsj.com/business/media/the-odd-cou...     Business          2  \n..                                                 ...          ...        ...  \n270  https://www.wsj.com/articles/let-americans-ban...     Articles          4  \n271  https://www.wsj.com/real-estate/luxury-homes/t...  Real-Estate          2  \n272  https://www.wsj.com/real-estate/luxury-homes/l...  Real-Estate          2  \n273  https://www.wsj.com/real-estate/luxury-homes/t...  Real-Estate          0  \n274  https://www.wsj.com/real-estate/commercial/mov...  Real-Estate          2  \n\n[275 rows x 5 columns]",
      "text/html": "<div>\n<style scoped>\n    .dataframe tbody tr th:only-of-type {\n        vertical-align: middle;\n    }\n\n    .dataframe tbody tr th {\n        vertical-align: top;\n    }\n\n    .dataframe thead th {\n        text-align: right;\n    }\n</style>\n<table border=\"1\" class=\"dataframe\">\n  <thead>\n    <tr style=\"text-align: right;\">\n      <th></th>\n      <th>Title</th>\n      <th>Time</th>\n      <th>Link</th>\n      <th>Subdomain</th>\n      <th>Sentiment</th>\n    </tr>\n  </thead>\n  <tbody>\n    <tr>\n      <th>0</th>\n      <td>Activist Politan Plans Second Proxy Battle at ...</td>\n      <td>2024-03-24 19:42</td>\n      <td>https://www.wsj.com/business/deals/activist-po...</td>\n      <td>Business</td>\n      <td>0</td>\n    </tr>\n    <tr>\n      <th>1</th>\n      <td>NBC’s Chuck Todd Blasts Network as Backlash to...</td>\n      <td>2024-03-24 14:42</td>\n      <td>https://www.wsj.com/business/media/msnbc-has-n...</td>\n      <td>Business</td>\n      <td>0</td>\n    </tr>\n    <tr>\n      <th>2</th>\n      <td>Big Tech’s Latest Obsession Is Finding Enough ...</td>\n      <td>2024-03-24 07:42</td>\n      <td>https://www.wsj.com/business/energy-oil/big-te...</td>\n      <td>Business</td>\n      <td>2</td>\n    </tr>\n    <tr>\n      <th>3</th>\n      <td>A Brazen Yogurt Heist Shows How Cyber Gangs Ar...</td>\n      <td>2024-03-24 07:42</td>\n      <td>https://www.wsj.com/business/logistics/a-braze...</td>\n      <td>Business</td>\n      <td>0</td>\n    </tr>\n    <tr>\n      <th>4</th>\n      <td>Netflix’s Co-CEOs Are Nothing Alike. That’s a ...</td>\n      <td>2024-03-24 05:42</td>\n      <td>https://www.wsj.com/business/media/the-odd-cou...</td>\n      <td>Business</td>\n      <td>2</td>\n    </tr>\n    <tr>\n      <th>...</th>\n      <td>...</td>\n      <td>...</td>\n      <td>...</td>\n      <td>...</td>\n      <td>...</td>\n    </tr>\n    <tr>\n      <th>270</th>\n      <td>Let Americans Bank Again</td>\n      <td>2024-04-11 23:08</td>\n      <td>https://www.wsj.com/articles/let-americans-ban...</td>\n      <td>Articles</td>\n      <td>4</td>\n    </tr>\n    <tr>\n      <th>271</th>\n      <td>This $77 Million Aspen Ranch is Colorado’s Mos...</td>\n      <td>2024-04-11 17:08</td>\n      <td>https://www.wsj.com/real-estate/luxury-homes/t...</td>\n      <td>Real-Estate</td>\n      <td>2</td>\n    </tr>\n    <tr>\n      <th>272</th>\n      <td>Late Designer Max Azria’s Massive Compound Is ...</td>\n      <td>2024-04-11 13:08</td>\n      <td>https://www.wsj.com/real-estate/luxury-homes/l...</td>\n      <td>Real-Estate</td>\n      <td>2</td>\n    </tr>\n    <tr>\n      <th>273</th>\n      <td>The Party’s Over for Coachella’s Glitziest Ren...</td>\n      <td>2024-04-11 00:00</td>\n      <td>https://www.wsj.com/real-estate/luxury-homes/t...</td>\n      <td>Real-Estate</td>\n      <td>0</td>\n    </tr>\n    <tr>\n      <th>274</th>\n      <td>Movie Theaters Have Weird Real Estate. It’s Sa...</td>\n      <td>2024-04-08 00:00</td>\n      <td>https://www.wsj.com/real-estate/commercial/mov...</td>\n      <td>Real-Estate</td>\n      <td>2</td>\n    </tr>\n  </tbody>\n</table>\n<p>275 rows × 5 columns</p>\n</div>"
     },
     "execution_count": 7,
     "metadata": {},
     "output_type": "execute_result"
    }
   ],
   "source": [
    "sentiment_df = predict_sentiment(feature_df)\n",
    "sentiment_df"
   ],
   "metadata": {
    "collapsed": false,
    "ExecuteTime": {
     "end_time": "2024-04-15T04:06:42.542438Z",
     "start_time": "2024-04-15T04:06:06.922482100Z"
    }
   },
   "id": "b2ced28efd206b92",
   "execution_count": 7
  },
  {
   "cell_type": "code",
   "outputs": [
    {
     "data": {
      "text/plain": "                                                Title              Time  \\\n0   CVC Set to Launch IPO, Seeks Valuation of Up t...  2024-04-14 12:02   \n1   Ready, Set, Fix That Plane in 15 Minutes or Less!  2024-04-14 10:02   \n2              The Home-Solar Boom Gets a ‘Gut Punch’  2024-04-14 09:02   \n3   A Day in the Life of a Walmart Manager Who Mak...  2024-04-14 07:02   \n4   $850 Millennium Falcons and $680 Titanics: Gro...  2024-04-13 00:00   \n5   When Will Elon Musk’s Driverless Car Claims Ha...  2024-04-13 00:00   \n6                    America’s New Regulation Busters  2024-04-14 09:02   \n7              Elon Musk Resists Brazilian Censorship  2024-04-14 09:02   \n8                What Economists Miss About Inflation  2024-04-14 09:02   \n9                    Biden’s Green-Energy Price Shock  2024-04-14 09:02   \n10  Inside Amazon’s Push to Crack Trader Joe’s—and...  2024-04-13 00:00   \n11  EXCLUSIVEGE Sells Crotonville, a Training Grou...  2024-04-14 06:02   \n12  The ‘Golden Bachelor’ Couple Is Getting Divorc...  2024-04-12 00:00   \n13  Israel Repelled Iran’s Huge Attack. But Only W...  2024-04-14 19:02   \n14     Your Tax Refund Is Delayed. It Could Be Years.  2024-04-14 21:02   \n15  You Had a Big Win at Work. But That Was Last M...  2024-04-14 21:02   \n16  Trump Tried Everything to Avoid a Criminal Tri...  2024-04-14 06:02   \n17  ‘Envy of the World’—U.S. Economy Expected to K...  2024-04-14 06:02   \n18  UnitedHealth’s Earnings Could Illuminate True ...  2024-04-14 07:02   \n19  Franklin Templeton Turns Toward Private Invest...  2024-04-14 10:02   \n20         America’s Bonds Are Getting Harder to Sell  2024-04-14 06:02   \n21  The U.S. Is Trying to Cripple Russia’s Vast Ar...  2024-04-14 00:00   \n22  Two Brothers, a Big Biotech Bet and an $8 Bill...  2024-04-13 00:00   \n23                The Big Bank Elizabeth Warren Loves  2024-04-14 19:02   \n24  Expiring 2017 Trump Tax Cuts Create a Chance f...  2024-04-14 19:02   \n25                           Let Americans Bank Again  2024-04-14 19:02   \n26  GE Sells Crotonville, a Training Ground for Ge...  2024-04-14 06:02   \n27    Rents Are Still Rising and Pumping Up Inflation  2024-04-13 00:00   \n28  Los Angeles Has Notched Its Biggest Home Sale ...  2024-04-12 00:00   \n29  This $77 Million Aspen Ranch is Colorado’s Mos...  2024-04-11 00:00   \n30  Late Designer Max Azria’s Massive Compound Is ...  2024-04-11 00:00   \n31  The Party’s Over for Coachella’s Glitziest Ren...  2024-04-11 00:00   \n32        Realtors Are Experts Who Provide Real Value  2024-04-10 00:00   \n33              The Realtors Still Need Market Reform  2024-04-10 00:00   \n34  The Real Estate Nightmare Unfolding in Downtow...  2024-04-10 00:00   \n35  Blackstone Making $10 Billion Multifamily Purc...  2024-04-08 00:00   \n36      Insurers Are Spying on Your Home From the Sky  2024-04-06 00:00   \n37  An Alabama Oral Surgeon Designed His Nearly $5...  2024-04-10 00:00   \n38  The Billionaire Behind Trump’s $175 Million Bo...  2024-04-10 00:00   \n\n                                                 Link    Subdomain  Sentiment  \n0   https://www.wsj.com/business/energy-oil/cvc-se...     Business          2  \n1   https://www.wsj.com/business/airlines/airplane...     Business          1  \n2   https://www.wsj.com/business/energy-oil/the-ho...     Business          0  \n3   https://www.wsj.com/business/retail/a-day-in-t...     Business          2  \n4   https://www.wsj.com/business/retail/850-millen...     Business          2  \n5   https://www.wsj.com/business/autos/elon-musk-d...     Business          0  \n6   https://www.wsj.com/articles/americas-new-regu...     Articles          0  \n7   https://www.wsj.com/articles/elon-musk-resists...     Articles          1  \n8   https://www.wsj.com/articles/what-economists-m...     Articles          0  \n9   https://www.wsj.com/articles/electricity-price...     Articles          0  \n10  https://www.wsj.com/business/retail/amazon-the...     Business          2  \n11  https://www.wsj.com/real-estate/commercial/ge-...  Real-Estate          0  \n12  https://www.wsj.com/business/media/golden-bach...     Business          0  \n13  https://www.wsj.com/world/middle-east/analysis...     Politics          3  \n14  https://www.wsj.com/personal-finance/taxes/you...      Finance          0  \n15  https://www.wsj.com/lifestyle/careers/you-had-...     Articles          0  \n16  https://www.wsj.com/us-news/law/trump-criminal...     Politics          0  \n17  https://www.wsj.com/economy/central-banking/ec...      Economy          4  \n18  https://www.wsj.com/health/healthcare/unitedhe...       Health          2  \n19  https://www.wsj.com/finance/investing/franklin...      Finance          0  \n20  https://www.wsj.com/finance/americas-bonds-are...      Finance          0  \n21  https://www.wsj.com/finance/the-u-s-is-trying-...      Finance          0  \n22  https://www.wsj.com/finance/investing/two-brot...      Finance          2  \n23  https://www.wsj.com/articles/the-big-bank-eliz...     Articles          1  \n24  https://www.wsj.com/articles/expiring-trump-ta...     Articles          2  \n25  https://www.wsj.com/articles/let-americans-ban...     Articles          4  \n26  https://www.wsj.com/real-estate/commercial/ge-...  Real-Estate          0  \n27  https://www.wsj.com/real-estate/rising-rents-h...  Real-Estate          0  \n28  https://www.wsj.com/real-estate/luxury-homes/l...  Real-Estate          1  \n29  https://www.wsj.com/real-estate/luxury-homes/t...  Real-Estate          2  \n30  https://www.wsj.com/real-estate/luxury-homes/l...  Real-Estate          2  \n31  https://www.wsj.com/real-estate/luxury-homes/t...  Real-Estate          0  \n32  https://www.wsj.com/articles/buyers-sellers-re...     Articles          3  \n33  https://www.wsj.com/articles/the-realtors-stil...     Articles          0  \n34  https://www.wsj.com/real-estate/commercial/doo...  Real-Estate          0  \n35  https://www.wsj.com/real-estate/blackstone-mak...  Real-Estate          4  \n36  https://www.wsj.com/real-estate/home-insurance...  Real-Estate          0  \n37  https://www.wsj.com/real-estate/luxury-homes/a...  Real-Estate          2  \n38  https://www.wsj.com/real-estate/the-billionair...  Real-Estate          2  ",
      "text/html": "<div>\n<style scoped>\n    .dataframe tbody tr th:only-of-type {\n        vertical-align: middle;\n    }\n\n    .dataframe tbody tr th {\n        vertical-align: top;\n    }\n\n    .dataframe thead th {\n        text-align: right;\n    }\n</style>\n<table border=\"1\" class=\"dataframe\">\n  <thead>\n    <tr style=\"text-align: right;\">\n      <th></th>\n      <th>Title</th>\n      <th>Time</th>\n      <th>Link</th>\n      <th>Subdomain</th>\n      <th>Sentiment</th>\n    </tr>\n  </thead>\n  <tbody>\n    <tr>\n      <th>0</th>\n      <td>CVC Set to Launch IPO, Seeks Valuation of Up t...</td>\n      <td>2024-04-14 12:02</td>\n      <td>https://www.wsj.com/business/energy-oil/cvc-se...</td>\n      <td>Business</td>\n      <td>2</td>\n    </tr>\n    <tr>\n      <th>1</th>\n      <td>Ready, Set, Fix That Plane in 15 Minutes or Less!</td>\n      <td>2024-04-14 10:02</td>\n      <td>https://www.wsj.com/business/airlines/airplane...</td>\n      <td>Business</td>\n      <td>1</td>\n    </tr>\n    <tr>\n      <th>2</th>\n      <td>The Home-Solar Boom Gets a ‘Gut Punch’</td>\n      <td>2024-04-14 09:02</td>\n      <td>https://www.wsj.com/business/energy-oil/the-ho...</td>\n      <td>Business</td>\n      <td>0</td>\n    </tr>\n    <tr>\n      <th>3</th>\n      <td>A Day in the Life of a Walmart Manager Who Mak...</td>\n      <td>2024-04-14 07:02</td>\n      <td>https://www.wsj.com/business/retail/a-day-in-t...</td>\n      <td>Business</td>\n      <td>2</td>\n    </tr>\n    <tr>\n      <th>4</th>\n      <td>$850 Millennium Falcons and $680 Titanics: Gro...</td>\n      <td>2024-04-13 00:00</td>\n      <td>https://www.wsj.com/business/retail/850-millen...</td>\n      <td>Business</td>\n      <td>2</td>\n    </tr>\n    <tr>\n      <th>5</th>\n      <td>When Will Elon Musk’s Driverless Car Claims Ha...</td>\n      <td>2024-04-13 00:00</td>\n      <td>https://www.wsj.com/business/autos/elon-musk-d...</td>\n      <td>Business</td>\n      <td>0</td>\n    </tr>\n    <tr>\n      <th>6</th>\n      <td>America’s New Regulation Busters</td>\n      <td>2024-04-14 09:02</td>\n      <td>https://www.wsj.com/articles/americas-new-regu...</td>\n      <td>Articles</td>\n      <td>0</td>\n    </tr>\n    <tr>\n      <th>7</th>\n      <td>Elon Musk Resists Brazilian Censorship</td>\n      <td>2024-04-14 09:02</td>\n      <td>https://www.wsj.com/articles/elon-musk-resists...</td>\n      <td>Articles</td>\n      <td>1</td>\n    </tr>\n    <tr>\n      <th>8</th>\n      <td>What Economists Miss About Inflation</td>\n      <td>2024-04-14 09:02</td>\n      <td>https://www.wsj.com/articles/what-economists-m...</td>\n      <td>Articles</td>\n      <td>0</td>\n    </tr>\n    <tr>\n      <th>9</th>\n      <td>Biden’s Green-Energy Price Shock</td>\n      <td>2024-04-14 09:02</td>\n      <td>https://www.wsj.com/articles/electricity-price...</td>\n      <td>Articles</td>\n      <td>0</td>\n    </tr>\n    <tr>\n      <th>10</th>\n      <td>Inside Amazon’s Push to Crack Trader Joe’s—and...</td>\n      <td>2024-04-13 00:00</td>\n      <td>https://www.wsj.com/business/retail/amazon-the...</td>\n      <td>Business</td>\n      <td>2</td>\n    </tr>\n    <tr>\n      <th>11</th>\n      <td>EXCLUSIVEGE Sells Crotonville, a Training Grou...</td>\n      <td>2024-04-14 06:02</td>\n      <td>https://www.wsj.com/real-estate/commercial/ge-...</td>\n      <td>Real-Estate</td>\n      <td>0</td>\n    </tr>\n    <tr>\n      <th>12</th>\n      <td>The ‘Golden Bachelor’ Couple Is Getting Divorc...</td>\n      <td>2024-04-12 00:00</td>\n      <td>https://www.wsj.com/business/media/golden-bach...</td>\n      <td>Business</td>\n      <td>0</td>\n    </tr>\n    <tr>\n      <th>13</th>\n      <td>Israel Repelled Iran’s Huge Attack. But Only W...</td>\n      <td>2024-04-14 19:02</td>\n      <td>https://www.wsj.com/world/middle-east/analysis...</td>\n      <td>Politics</td>\n      <td>3</td>\n    </tr>\n    <tr>\n      <th>14</th>\n      <td>Your Tax Refund Is Delayed. It Could Be Years.</td>\n      <td>2024-04-14 21:02</td>\n      <td>https://www.wsj.com/personal-finance/taxes/you...</td>\n      <td>Finance</td>\n      <td>0</td>\n    </tr>\n    <tr>\n      <th>15</th>\n      <td>You Had a Big Win at Work. But That Was Last M...</td>\n      <td>2024-04-14 21:02</td>\n      <td>https://www.wsj.com/lifestyle/careers/you-had-...</td>\n      <td>Articles</td>\n      <td>0</td>\n    </tr>\n    <tr>\n      <th>16</th>\n      <td>Trump Tried Everything to Avoid a Criminal Tri...</td>\n      <td>2024-04-14 06:02</td>\n      <td>https://www.wsj.com/us-news/law/trump-criminal...</td>\n      <td>Politics</td>\n      <td>0</td>\n    </tr>\n    <tr>\n      <th>17</th>\n      <td>‘Envy of the World’—U.S. Economy Expected to K...</td>\n      <td>2024-04-14 06:02</td>\n      <td>https://www.wsj.com/economy/central-banking/ec...</td>\n      <td>Economy</td>\n      <td>4</td>\n    </tr>\n    <tr>\n      <th>18</th>\n      <td>UnitedHealth’s Earnings Could Illuminate True ...</td>\n      <td>2024-04-14 07:02</td>\n      <td>https://www.wsj.com/health/healthcare/unitedhe...</td>\n      <td>Health</td>\n      <td>2</td>\n    </tr>\n    <tr>\n      <th>19</th>\n      <td>Franklin Templeton Turns Toward Private Invest...</td>\n      <td>2024-04-14 10:02</td>\n      <td>https://www.wsj.com/finance/investing/franklin...</td>\n      <td>Finance</td>\n      <td>0</td>\n    </tr>\n    <tr>\n      <th>20</th>\n      <td>America’s Bonds Are Getting Harder to Sell</td>\n      <td>2024-04-14 06:02</td>\n      <td>https://www.wsj.com/finance/americas-bonds-are...</td>\n      <td>Finance</td>\n      <td>0</td>\n    </tr>\n    <tr>\n      <th>21</th>\n      <td>The U.S. Is Trying to Cripple Russia’s Vast Ar...</td>\n      <td>2024-04-14 00:00</td>\n      <td>https://www.wsj.com/finance/the-u-s-is-trying-...</td>\n      <td>Finance</td>\n      <td>0</td>\n    </tr>\n    <tr>\n      <th>22</th>\n      <td>Two Brothers, a Big Biotech Bet and an $8 Bill...</td>\n      <td>2024-04-13 00:00</td>\n      <td>https://www.wsj.com/finance/investing/two-brot...</td>\n      <td>Finance</td>\n      <td>2</td>\n    </tr>\n    <tr>\n      <th>23</th>\n      <td>The Big Bank Elizabeth Warren Loves</td>\n      <td>2024-04-14 19:02</td>\n      <td>https://www.wsj.com/articles/the-big-bank-eliz...</td>\n      <td>Articles</td>\n      <td>1</td>\n    </tr>\n    <tr>\n      <th>24</th>\n      <td>Expiring 2017 Trump Tax Cuts Create a Chance f...</td>\n      <td>2024-04-14 19:02</td>\n      <td>https://www.wsj.com/articles/expiring-trump-ta...</td>\n      <td>Articles</td>\n      <td>2</td>\n    </tr>\n    <tr>\n      <th>25</th>\n      <td>Let Americans Bank Again</td>\n      <td>2024-04-14 19:02</td>\n      <td>https://www.wsj.com/articles/let-americans-ban...</td>\n      <td>Articles</td>\n      <td>4</td>\n    </tr>\n    <tr>\n      <th>26</th>\n      <td>GE Sells Crotonville, a Training Ground for Ge...</td>\n      <td>2024-04-14 06:02</td>\n      <td>https://www.wsj.com/real-estate/commercial/ge-...</td>\n      <td>Real-Estate</td>\n      <td>0</td>\n    </tr>\n    <tr>\n      <th>27</th>\n      <td>Rents Are Still Rising and Pumping Up Inflation</td>\n      <td>2024-04-13 00:00</td>\n      <td>https://www.wsj.com/real-estate/rising-rents-h...</td>\n      <td>Real-Estate</td>\n      <td>0</td>\n    </tr>\n    <tr>\n      <th>28</th>\n      <td>Los Angeles Has Notched Its Biggest Home Sale ...</td>\n      <td>2024-04-12 00:00</td>\n      <td>https://www.wsj.com/real-estate/luxury-homes/l...</td>\n      <td>Real-Estate</td>\n      <td>1</td>\n    </tr>\n    <tr>\n      <th>29</th>\n      <td>This $77 Million Aspen Ranch is Colorado’s Mos...</td>\n      <td>2024-04-11 00:00</td>\n      <td>https://www.wsj.com/real-estate/luxury-homes/t...</td>\n      <td>Real-Estate</td>\n      <td>2</td>\n    </tr>\n    <tr>\n      <th>30</th>\n      <td>Late Designer Max Azria’s Massive Compound Is ...</td>\n      <td>2024-04-11 00:00</td>\n      <td>https://www.wsj.com/real-estate/luxury-homes/l...</td>\n      <td>Real-Estate</td>\n      <td>2</td>\n    </tr>\n    <tr>\n      <th>31</th>\n      <td>The Party’s Over for Coachella’s Glitziest Ren...</td>\n      <td>2024-04-11 00:00</td>\n      <td>https://www.wsj.com/real-estate/luxury-homes/t...</td>\n      <td>Real-Estate</td>\n      <td>0</td>\n    </tr>\n    <tr>\n      <th>32</th>\n      <td>Realtors Are Experts Who Provide Real Value</td>\n      <td>2024-04-10 00:00</td>\n      <td>https://www.wsj.com/articles/buyers-sellers-re...</td>\n      <td>Articles</td>\n      <td>3</td>\n    </tr>\n    <tr>\n      <th>33</th>\n      <td>The Realtors Still Need Market Reform</td>\n      <td>2024-04-10 00:00</td>\n      <td>https://www.wsj.com/articles/the-realtors-stil...</td>\n      <td>Articles</td>\n      <td>0</td>\n    </tr>\n    <tr>\n      <th>34</th>\n      <td>The Real Estate Nightmare Unfolding in Downtow...</td>\n      <td>2024-04-10 00:00</td>\n      <td>https://www.wsj.com/real-estate/commercial/doo...</td>\n      <td>Real-Estate</td>\n      <td>0</td>\n    </tr>\n    <tr>\n      <th>35</th>\n      <td>Blackstone Making $10 Billion Multifamily Purc...</td>\n      <td>2024-04-08 00:00</td>\n      <td>https://www.wsj.com/real-estate/blackstone-mak...</td>\n      <td>Real-Estate</td>\n      <td>4</td>\n    </tr>\n    <tr>\n      <th>36</th>\n      <td>Insurers Are Spying on Your Home From the Sky</td>\n      <td>2024-04-06 00:00</td>\n      <td>https://www.wsj.com/real-estate/home-insurance...</td>\n      <td>Real-Estate</td>\n      <td>0</td>\n    </tr>\n    <tr>\n      <th>37</th>\n      <td>An Alabama Oral Surgeon Designed His Nearly $5...</td>\n      <td>2024-04-10 00:00</td>\n      <td>https://www.wsj.com/real-estate/luxury-homes/a...</td>\n      <td>Real-Estate</td>\n      <td>2</td>\n    </tr>\n    <tr>\n      <th>38</th>\n      <td>The Billionaire Behind Trump’s $175 Million Bo...</td>\n      <td>2024-04-10 00:00</td>\n      <td>https://www.wsj.com/real-estate/the-billionair...</td>\n      <td>Real-Estate</td>\n      <td>2</td>\n    </tr>\n  </tbody>\n</table>\n</div>"
     },
     "execution_count": 8,
     "metadata": {},
     "output_type": "execute_result"
    }
   ],
   "source": [
    "existing_df = pd.read_csv('Data/articles_features.csv')\n",
    "existing_df"
   ],
   "metadata": {
    "collapsed": false,
    "ExecuteTime": {
     "end_time": "2024-04-15T04:06:42.550475Z",
     "start_time": "2024-04-15T04:06:42.538439800Z"
    }
   },
   "id": "659a4dd322513e85",
   "execution_count": 8
  },
  {
   "cell_type": "code",
   "outputs": [
    {
     "data": {
      "text/plain": "                                                 Title              Time  \\\n0    CVC Set to Launch IPO, Seeks Valuation of Up t...  2024-04-14 12:02   \n1    Ready, Set, Fix That Plane in 15 Minutes or Less!  2024-04-14 10:02   \n2               The Home-Solar Boom Gets a ‘Gut Punch’  2024-04-14 09:02   \n3    A Day in the Life of a Walmart Manager Who Mak...  2024-04-14 07:02   \n4    $850 Millennium Falcons and $680 Titanics: Gro...  2024-04-13 00:00   \n..                                                 ...               ...   \n270                           Let Americans Bank Again  2024-04-11 23:08   \n271  This $77 Million Aspen Ranch is Colorado’s Mos...  2024-04-11 17:08   \n272  Late Designer Max Azria’s Massive Compound Is ...  2024-04-11 13:08   \n273  The Party’s Over for Coachella’s Glitziest Ren...  2024-04-11 00:00   \n274  Movie Theaters Have Weird Real Estate. It’s Sa...  2024-04-08 00:00   \n\n                                                  Link    Subdomain  Sentiment  \n0    https://www.wsj.com/business/energy-oil/cvc-se...     Business          2  \n1    https://www.wsj.com/business/airlines/airplane...     Business          1  \n2    https://www.wsj.com/business/energy-oil/the-ho...     Business          0  \n3    https://www.wsj.com/business/retail/a-day-in-t...     Business          2  \n4    https://www.wsj.com/business/retail/850-millen...     Business          2  \n..                                                 ...          ...        ...  \n270  https://www.wsj.com/articles/let-americans-ban...     Articles          4  \n271  https://www.wsj.com/real-estate/luxury-homes/t...  Real-Estate          2  \n272  https://www.wsj.com/real-estate/luxury-homes/l...  Real-Estate          2  \n273  https://www.wsj.com/real-estate/luxury-homes/t...  Real-Estate          0  \n274  https://www.wsj.com/real-estate/commercial/mov...  Real-Estate          2  \n\n[314 rows x 5 columns]",
      "text/html": "<div>\n<style scoped>\n    .dataframe tbody tr th:only-of-type {\n        vertical-align: middle;\n    }\n\n    .dataframe tbody tr th {\n        vertical-align: top;\n    }\n\n    .dataframe thead th {\n        text-align: right;\n    }\n</style>\n<table border=\"1\" class=\"dataframe\">\n  <thead>\n    <tr style=\"text-align: right;\">\n      <th></th>\n      <th>Title</th>\n      <th>Time</th>\n      <th>Link</th>\n      <th>Subdomain</th>\n      <th>Sentiment</th>\n    </tr>\n  </thead>\n  <tbody>\n    <tr>\n      <th>0</th>\n      <td>CVC Set to Launch IPO, Seeks Valuation of Up t...</td>\n      <td>2024-04-14 12:02</td>\n      <td>https://www.wsj.com/business/energy-oil/cvc-se...</td>\n      <td>Business</td>\n      <td>2</td>\n    </tr>\n    <tr>\n      <th>1</th>\n      <td>Ready, Set, Fix That Plane in 15 Minutes or Less!</td>\n      <td>2024-04-14 10:02</td>\n      <td>https://www.wsj.com/business/airlines/airplane...</td>\n      <td>Business</td>\n      <td>1</td>\n    </tr>\n    <tr>\n      <th>2</th>\n      <td>The Home-Solar Boom Gets a ‘Gut Punch’</td>\n      <td>2024-04-14 09:02</td>\n      <td>https://www.wsj.com/business/energy-oil/the-ho...</td>\n      <td>Business</td>\n      <td>0</td>\n    </tr>\n    <tr>\n      <th>3</th>\n      <td>A Day in the Life of a Walmart Manager Who Mak...</td>\n      <td>2024-04-14 07:02</td>\n      <td>https://www.wsj.com/business/retail/a-day-in-t...</td>\n      <td>Business</td>\n      <td>2</td>\n    </tr>\n    <tr>\n      <th>4</th>\n      <td>$850 Millennium Falcons and $680 Titanics: Gro...</td>\n      <td>2024-04-13 00:00</td>\n      <td>https://www.wsj.com/business/retail/850-millen...</td>\n      <td>Business</td>\n      <td>2</td>\n    </tr>\n    <tr>\n      <th>...</th>\n      <td>...</td>\n      <td>...</td>\n      <td>...</td>\n      <td>...</td>\n      <td>...</td>\n    </tr>\n    <tr>\n      <th>270</th>\n      <td>Let Americans Bank Again</td>\n      <td>2024-04-11 23:08</td>\n      <td>https://www.wsj.com/articles/let-americans-ban...</td>\n      <td>Articles</td>\n      <td>4</td>\n    </tr>\n    <tr>\n      <th>271</th>\n      <td>This $77 Million Aspen Ranch is Colorado’s Mos...</td>\n      <td>2024-04-11 17:08</td>\n      <td>https://www.wsj.com/real-estate/luxury-homes/t...</td>\n      <td>Real-Estate</td>\n      <td>2</td>\n    </tr>\n    <tr>\n      <th>272</th>\n      <td>Late Designer Max Azria’s Massive Compound Is ...</td>\n      <td>2024-04-11 13:08</td>\n      <td>https://www.wsj.com/real-estate/luxury-homes/l...</td>\n      <td>Real-Estate</td>\n      <td>2</td>\n    </tr>\n    <tr>\n      <th>273</th>\n      <td>The Party’s Over for Coachella’s Glitziest Ren...</td>\n      <td>2024-04-11 00:00</td>\n      <td>https://www.wsj.com/real-estate/luxury-homes/t...</td>\n      <td>Real-Estate</td>\n      <td>0</td>\n    </tr>\n    <tr>\n      <th>274</th>\n      <td>Movie Theaters Have Weird Real Estate. It’s Sa...</td>\n      <td>2024-04-08 00:00</td>\n      <td>https://www.wsj.com/real-estate/commercial/mov...</td>\n      <td>Real-Estate</td>\n      <td>2</td>\n    </tr>\n  </tbody>\n</table>\n<p>314 rows × 5 columns</p>\n</div>"
     },
     "execution_count": 11,
     "metadata": {},
     "output_type": "execute_result"
    }
   ],
   "source": [
    "merged_df = pd.concat([existing_df, sentiment_df], ignore_index=False)\n",
    "merged_df"
   ],
   "metadata": {
    "collapsed": false,
    "ExecuteTime": {
     "end_time": "2024-04-15T04:06:42.588537Z",
     "start_time": "2024-04-15T04:06:42.570499600Z"
    }
   },
   "id": "8c88b8e261ffcd96",
   "execution_count": 11
  },
  {
   "cell_type": "code",
   "outputs": [],
   "source": [
    "merged_df.to_csv('Data/articles_features.csv', index=False, encoding='utf-8-sig')"
   ],
   "metadata": {
    "collapsed": false,
    "ExecuteTime": {
     "end_time": "2024-04-15T04:06:42.587531Z",
     "start_time": "2024-04-15T04:06:42.562263700Z"
    }
   },
   "id": "25b03a456683df3b",
   "execution_count": 10
  },
  {
   "cell_type": "code",
   "outputs": [],
   "source": [],
   "metadata": {
    "collapsed": false
   },
   "id": "e6425c7ca966bc80",
   "execution_count": null
  },
  {
   "cell_type": "code",
   "outputs": [],
   "source": [],
   "metadata": {
    "collapsed": false
   },
   "id": "49011472a1eda19f",
   "execution_count": null
  },
  {
   "cell_type": "code",
   "outputs": [],
   "source": [],
   "metadata": {
    "collapsed": false
   },
   "id": "c9c269887c207237",
   "execution_count": null
  },
  {
   "cell_type": "code",
   "outputs": [],
   "source": [],
   "metadata": {
    "collapsed": false
   },
   "id": "14834b46306609e2",
   "execution_count": null
  },
  {
   "cell_type": "code",
   "outputs": [],
   "source": [
    "categorical_ema = generate_ema()\n",
    "categorical_ema"
   ],
   "metadata": {
    "collapsed": false
   },
   "id": "15f6c766ef11fcbf"
  }
 ],
 "metadata": {
  "kernelspec": {
   "display_name": "Python 3",
   "language": "python",
   "name": "python3"
  },
  "language_info": {
   "codemirror_mode": {
    "name": "ipython",
    "version": 2
   },
   "file_extension": ".py",
   "mimetype": "text/x-python",
   "name": "python",
   "nbconvert_exporter": "python",
   "pygments_lexer": "ipython2",
   "version": "2.7.6"
  }
 },
 "nbformat": 4,
 "nbformat_minor": 5
}
